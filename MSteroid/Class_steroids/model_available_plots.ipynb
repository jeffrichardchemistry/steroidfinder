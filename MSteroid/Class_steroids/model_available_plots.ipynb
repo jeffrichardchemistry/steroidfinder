{
 "cells": [
  {
   "cell_type": "code",
   "execution_count": 14,
   "id": "5bfc99a8-4b4d-4f32-a075-84f72f627f76",
   "metadata": {},
   "outputs": [
    {
     "name": "stdout",
     "output_type": "stream",
     "text": [
      "Collecting seaborn\n",
      "  Downloading seaborn-0.13.0-py3-none-any.whl (294 kB)\n",
      "\u001b[2K     \u001b[90m━━━━━━━━━━━━━━━━━━━━━━━━━━━━━━━━━━━━━━━\u001b[0m \u001b[32m294.6/294.6 kB\u001b[0m \u001b[31m2.5 MB/s\u001b[0m eta \u001b[36m0:00:00\u001b[0ma \u001b[36m0:00:01\u001b[0m\n",
      "\u001b[?25hRequirement already satisfied: numpy!=1.24.0,>=1.20 in /home/vitor/.pyenv/versions/3.10.13/envs/vitu/lib/python3.10/site-packages (from seaborn) (1.24.3)\n",
      "Requirement already satisfied: pandas>=1.2 in /home/vitor/.pyenv/versions/3.10.13/envs/vitu/lib/python3.10/site-packages (from seaborn) (2.0.3)\n",
      "Requirement already satisfied: matplotlib!=3.6.1,>=3.3 in /home/vitor/.pyenv/versions/3.10.13/envs/vitu/lib/python3.10/site-packages (from seaborn) (3.8.0)\n",
      "Requirement already satisfied: kiwisolver>=1.0.1 in /home/vitor/.pyenv/versions/3.10.13/envs/vitu/lib/python3.10/site-packages (from matplotlib!=3.6.1,>=3.3->seaborn) (1.4.5)\n",
      "Requirement already satisfied: contourpy>=1.0.1 in /home/vitor/.pyenv/versions/3.10.13/envs/vitu/lib/python3.10/site-packages (from matplotlib!=3.6.1,>=3.3->seaborn) (1.1.1)\n",
      "Requirement already satisfied: fonttools>=4.22.0 in /home/vitor/.pyenv/versions/3.10.13/envs/vitu/lib/python3.10/site-packages (from matplotlib!=3.6.1,>=3.3->seaborn) (4.43.1)\n",
      "Requirement already satisfied: packaging>=20.0 in /home/vitor/.pyenv/versions/3.10.13/envs/vitu/lib/python3.10/site-packages (from matplotlib!=3.6.1,>=3.3->seaborn) (23.1)\n",
      "Requirement already satisfied: pyparsing>=2.3.1 in /home/vitor/.pyenv/versions/3.10.13/envs/vitu/lib/python3.10/site-packages (from matplotlib!=3.6.1,>=3.3->seaborn) (3.1.1)\n",
      "Requirement already satisfied: python-dateutil>=2.7 in /home/vitor/.pyenv/versions/3.10.13/envs/vitu/lib/python3.10/site-packages (from matplotlib!=3.6.1,>=3.3->seaborn) (2.8.2)\n",
      "Requirement already satisfied: cycler>=0.10 in /home/vitor/.pyenv/versions/3.10.13/envs/vitu/lib/python3.10/site-packages (from matplotlib!=3.6.1,>=3.3->seaborn) (0.12.1)\n",
      "Requirement already satisfied: pillow>=6.2.0 in /home/vitor/.pyenv/versions/3.10.13/envs/vitu/lib/python3.10/site-packages (from matplotlib!=3.6.1,>=3.3->seaborn) (10.1.0)\n",
      "Requirement already satisfied: pytz>=2020.1 in /home/vitor/.pyenv/versions/3.10.13/envs/vitu/lib/python3.10/site-packages (from pandas>=1.2->seaborn) (2023.3)\n",
      "Requirement already satisfied: tzdata>=2022.1 in /home/vitor/.pyenv/versions/3.10.13/envs/vitu/lib/python3.10/site-packages (from pandas>=1.2->seaborn) (2023.3)\n",
      "Requirement already satisfied: six>=1.5 in /home/vitor/.pyenv/versions/3.10.13/envs/vitu/lib/python3.10/site-packages (from python-dateutil>=2.7->matplotlib!=3.6.1,>=3.3->seaborn) (1.16.0)\n",
      "Installing collected packages: seaborn\n",
      "Successfully installed seaborn-0.13.0\n",
      "\n",
      "\u001b[1m[\u001b[0m\u001b[34;49mnotice\u001b[0m\u001b[1;39;49m]\u001b[0m\u001b[39;49m A new release of pip is available: \u001b[0m\u001b[31;49m23.0.1\u001b[0m\u001b[39;49m -> \u001b[0m\u001b[32;49m23.3.1\u001b[0m\n",
      "\u001b[1m[\u001b[0m\u001b[34;49mnotice\u001b[0m\u001b[1;39;49m]\u001b[0m\u001b[39;49m To update, run: \u001b[0m\u001b[32;49mpython3.10 -m pip install --upgrade pip\u001b[0m\n"
     ]
    }
   ],
   "source": [
    "! pip install seaborn"
   ]
  },
  {
   "cell_type": "code",
   "execution_count": 20,
   "id": "e4ac09f5-f4b5-463b-a4e0-8d2247e8d384",
   "metadata": {},
   "outputs": [],
   "source": [
    "import pandas as pd\n",
    "import numpy as np\n",
    "import sklearn\n",
    "from sklearn.model_selection import train_test_split\n",
    "import plotly.express as px\n",
    "import pickle\n",
    "from sklearn.metrics import roc_curve, auc, confusion_matrix\n",
    "import seaborn.objects as so\n",
    "import matplotlib.pyplot as plt"
   ]
  },
  {
   "cell_type": "code",
   "execution_count": 2,
   "id": "2f8ae562-6a23-451b-9963-42adca147a5f",
   "metadata": {},
   "outputs": [
    {
     "data": {
      "text/html": [
       "<div>\n",
       "<style scoped>\n",
       "    .dataframe tbody tr th:only-of-type {\n",
       "        vertical-align: middle;\n",
       "    }\n",
       "\n",
       "    .dataframe tbody tr th {\n",
       "        vertical-align: top;\n",
       "    }\n",
       "\n",
       "    .dataframe thead th {\n",
       "        text-align: right;\n",
       "    }\n",
       "</style>\n",
       "<table border=\"1\" class=\"dataframe\">\n",
       "  <thead>\n",
       "    <tr style=\"text-align: right;\">\n",
       "      <th></th>\n",
       "      <th>Classe</th>\n",
       "      <th>__M__</th>\n",
       "      <th>__M_15__</th>\n",
       "      <th>_M_29__</th>\n",
       "      <th>_M_90__</th>\n",
       "      <th>_M_2_90__</th>\n",
       "      <th>_M_3_90_</th>\n",
       "      <th>_M_90_15__</th>\n",
       "      <th>_M_2_90_15__</th>\n",
       "      <th>_M_3_90_15_</th>\n",
       "      <th>...</th>\n",
       "      <th>_M_140_</th>\n",
       "      <th>_M_157_</th>\n",
       "      <th>_M_144_</th>\n",
       "      <th>m_z_103</th>\n",
       "      <th>m_z_129</th>\n",
       "      <th>m_z_143</th>\n",
       "      <th>m_z_169</th>\n",
       "      <th>m_z_244</th>\n",
       "      <th>_m_z_218</th>\n",
       "      <th>m_z_231</th>\n",
       "    </tr>\n",
       "  </thead>\n",
       "  <tbody>\n",
       "    <tr>\n",
       "      <th>0</th>\n",
       "      <td>2</td>\n",
       "      <td>3</td>\n",
       "      <td>3</td>\n",
       "      <td>0</td>\n",
       "      <td>0</td>\n",
       "      <td>0</td>\n",
       "      <td>0</td>\n",
       "      <td>3</td>\n",
       "      <td>3</td>\n",
       "      <td>0</td>\n",
       "      <td>...</td>\n",
       "      <td>0</td>\n",
       "      <td>0</td>\n",
       "      <td>0</td>\n",
       "      <td>0</td>\n",
       "      <td>1</td>\n",
       "      <td>1</td>\n",
       "      <td>2</td>\n",
       "      <td>0</td>\n",
       "      <td>0</td>\n",
       "      <td>0</td>\n",
       "    </tr>\n",
       "    <tr>\n",
       "      <th>1</th>\n",
       "      <td>0</td>\n",
       "      <td>3</td>\n",
       "      <td>0</td>\n",
       "      <td>0</td>\n",
       "      <td>0</td>\n",
       "      <td>0</td>\n",
       "      <td>3</td>\n",
       "      <td>0</td>\n",
       "      <td>0</td>\n",
       "      <td>0</td>\n",
       "      <td>...</td>\n",
       "      <td>0</td>\n",
       "      <td>0</td>\n",
       "      <td>0</td>\n",
       "      <td>0</td>\n",
       "      <td>0</td>\n",
       "      <td>0</td>\n",
       "      <td>0</td>\n",
       "      <td>0</td>\n",
       "      <td>0</td>\n",
       "      <td>0</td>\n",
       "    </tr>\n",
       "    <tr>\n",
       "      <th>2</th>\n",
       "      <td>0</td>\n",
       "      <td>3</td>\n",
       "      <td>0</td>\n",
       "      <td>0</td>\n",
       "      <td>0</td>\n",
       "      <td>0</td>\n",
       "      <td>0</td>\n",
       "      <td>0</td>\n",
       "      <td>0</td>\n",
       "      <td>0</td>\n",
       "      <td>...</td>\n",
       "      <td>0</td>\n",
       "      <td>0</td>\n",
       "      <td>0</td>\n",
       "      <td>0</td>\n",
       "      <td>1</td>\n",
       "      <td>0</td>\n",
       "      <td>0</td>\n",
       "      <td>0</td>\n",
       "      <td>0</td>\n",
       "      <td>0</td>\n",
       "    </tr>\n",
       "    <tr>\n",
       "      <th>3</th>\n",
       "      <td>0</td>\n",
       "      <td>1</td>\n",
       "      <td>0</td>\n",
       "      <td>0</td>\n",
       "      <td>0</td>\n",
       "      <td>0</td>\n",
       "      <td>0</td>\n",
       "      <td>0</td>\n",
       "      <td>0</td>\n",
       "      <td>0</td>\n",
       "      <td>...</td>\n",
       "      <td>0</td>\n",
       "      <td>0</td>\n",
       "      <td>0</td>\n",
       "      <td>0</td>\n",
       "      <td>0</td>\n",
       "      <td>1</td>\n",
       "      <td>0</td>\n",
       "      <td>0</td>\n",
       "      <td>0</td>\n",
       "      <td>0</td>\n",
       "    </tr>\n",
       "    <tr>\n",
       "      <th>4</th>\n",
       "      <td>2</td>\n",
       "      <td>3</td>\n",
       "      <td>1</td>\n",
       "      <td>0</td>\n",
       "      <td>0</td>\n",
       "      <td>0</td>\n",
       "      <td>0</td>\n",
       "      <td>0</td>\n",
       "      <td>0</td>\n",
       "      <td>0</td>\n",
       "      <td>...</td>\n",
       "      <td>1</td>\n",
       "      <td>0</td>\n",
       "      <td>0</td>\n",
       "      <td>0</td>\n",
       "      <td>1</td>\n",
       "      <td>3</td>\n",
       "      <td>0</td>\n",
       "      <td>0</td>\n",
       "      <td>0</td>\n",
       "      <td>0</td>\n",
       "    </tr>\n",
       "    <tr>\n",
       "      <th>...</th>\n",
       "      <td>...</td>\n",
       "      <td>...</td>\n",
       "      <td>...</td>\n",
       "      <td>...</td>\n",
       "      <td>...</td>\n",
       "      <td>...</td>\n",
       "      <td>...</td>\n",
       "      <td>...</td>\n",
       "      <td>...</td>\n",
       "      <td>...</td>\n",
       "      <td>...</td>\n",
       "      <td>...</td>\n",
       "      <td>...</td>\n",
       "      <td>...</td>\n",
       "      <td>...</td>\n",
       "      <td>...</td>\n",
       "      <td>...</td>\n",
       "      <td>...</td>\n",
       "      <td>...</td>\n",
       "      <td>...</td>\n",
       "      <td>...</td>\n",
       "    </tr>\n",
       "    <tr>\n",
       "      <th>153</th>\n",
       "      <td>6</td>\n",
       "      <td>2</td>\n",
       "      <td>1</td>\n",
       "      <td>0</td>\n",
       "      <td>3</td>\n",
       "      <td>0</td>\n",
       "      <td>0</td>\n",
       "      <td>3</td>\n",
       "      <td>0</td>\n",
       "      <td>0</td>\n",
       "      <td>...</td>\n",
       "      <td>0</td>\n",
       "      <td>0</td>\n",
       "      <td>0</td>\n",
       "      <td>0</td>\n",
       "      <td>0</td>\n",
       "      <td>0</td>\n",
       "      <td>0</td>\n",
       "      <td>0</td>\n",
       "      <td>0</td>\n",
       "      <td>0</td>\n",
       "    </tr>\n",
       "    <tr>\n",
       "      <th>154</th>\n",
       "      <td>6</td>\n",
       "      <td>3</td>\n",
       "      <td>0</td>\n",
       "      <td>0</td>\n",
       "      <td>2</td>\n",
       "      <td>0</td>\n",
       "      <td>0</td>\n",
       "      <td>1</td>\n",
       "      <td>0</td>\n",
       "      <td>0</td>\n",
       "      <td>...</td>\n",
       "      <td>0</td>\n",
       "      <td>0</td>\n",
       "      <td>0</td>\n",
       "      <td>0</td>\n",
       "      <td>0</td>\n",
       "      <td>0</td>\n",
       "      <td>0</td>\n",
       "      <td>0</td>\n",
       "      <td>3</td>\n",
       "      <td>3</td>\n",
       "    </tr>\n",
       "    <tr>\n",
       "      <th>155</th>\n",
       "      <td>6</td>\n",
       "      <td>3</td>\n",
       "      <td>1</td>\n",
       "      <td>0</td>\n",
       "      <td>0</td>\n",
       "      <td>0</td>\n",
       "      <td>0</td>\n",
       "      <td>0</td>\n",
       "      <td>0</td>\n",
       "      <td>0</td>\n",
       "      <td>...</td>\n",
       "      <td>0</td>\n",
       "      <td>0</td>\n",
       "      <td>0</td>\n",
       "      <td>0</td>\n",
       "      <td>1</td>\n",
       "      <td>0</td>\n",
       "      <td>0</td>\n",
       "      <td>0</td>\n",
       "      <td>0</td>\n",
       "      <td>0</td>\n",
       "    </tr>\n",
       "    <tr>\n",
       "      <th>156</th>\n",
       "      <td>6</td>\n",
       "      <td>1</td>\n",
       "      <td>2</td>\n",
       "      <td>0</td>\n",
       "      <td>0</td>\n",
       "      <td>0</td>\n",
       "      <td>0</td>\n",
       "      <td>1</td>\n",
       "      <td>0</td>\n",
       "      <td>0</td>\n",
       "      <td>...</td>\n",
       "      <td>0</td>\n",
       "      <td>0</td>\n",
       "      <td>0</td>\n",
       "      <td>0</td>\n",
       "      <td>1</td>\n",
       "      <td>0</td>\n",
       "      <td>0</td>\n",
       "      <td>0</td>\n",
       "      <td>0</td>\n",
       "      <td>0</td>\n",
       "    </tr>\n",
       "    <tr>\n",
       "      <th>157</th>\n",
       "      <td>6</td>\n",
       "      <td>1</td>\n",
       "      <td>1</td>\n",
       "      <td>0</td>\n",
       "      <td>1</td>\n",
       "      <td>0</td>\n",
       "      <td>0</td>\n",
       "      <td>0</td>\n",
       "      <td>0</td>\n",
       "      <td>0</td>\n",
       "      <td>...</td>\n",
       "      <td>0</td>\n",
       "      <td>0</td>\n",
       "      <td>0</td>\n",
       "      <td>0</td>\n",
       "      <td>0</td>\n",
       "      <td>0</td>\n",
       "      <td>1</td>\n",
       "      <td>0</td>\n",
       "      <td>0</td>\n",
       "      <td>0</td>\n",
       "    </tr>\n",
       "  </tbody>\n",
       "</table>\n",
       "<p>158 rows × 27 columns</p>\n",
       "</div>"
      ],
      "text/plain": [
       "     Classe  __M__  __M_15__  _M_29__  _M_90__  _M_2_90__  _M_3_90_  \\\n",
       "0         2      3         3        0        0          0         0   \n",
       "1         0      3         0        0        0          0         3   \n",
       "2         0      3         0        0        0          0         0   \n",
       "3         0      1         0        0        0          0         0   \n",
       "4         2      3         1        0        0          0         0   \n",
       "..      ...    ...       ...      ...      ...        ...       ...   \n",
       "153       6      2         1        0        3          0         0   \n",
       "154       6      3         0        0        2          0         0   \n",
       "155       6      3         1        0        0          0         0   \n",
       "156       6      1         2        0        0          0         0   \n",
       "157       6      1         1        0        1          0         0   \n",
       "\n",
       "     _M_90_15__  _M_2_90_15__  _M_3_90_15_  ...  _M_140_  _M_157_  _M_144_  \\\n",
       "0             3             3            0  ...        0        0        0   \n",
       "1             0             0            0  ...        0        0        0   \n",
       "2             0             0            0  ...        0        0        0   \n",
       "3             0             0            0  ...        0        0        0   \n",
       "4             0             0            0  ...        1        0        0   \n",
       "..          ...           ...          ...  ...      ...      ...      ...   \n",
       "153           3             0            0  ...        0        0        0   \n",
       "154           1             0            0  ...        0        0        0   \n",
       "155           0             0            0  ...        0        0        0   \n",
       "156           1             0            0  ...        0        0        0   \n",
       "157           0             0            0  ...        0        0        0   \n",
       "\n",
       "     m_z_103  m_z_129  m_z_143  m_z_169  m_z_244  _m_z_218  m_z_231  \n",
       "0          0        1        1        2        0         0        0  \n",
       "1          0        0        0        0        0         0        0  \n",
       "2          0        1        0        0        0         0        0  \n",
       "3          0        0        1        0        0         0        0  \n",
       "4          0        1        3        0        0         0        0  \n",
       "..       ...      ...      ...      ...      ...       ...      ...  \n",
       "153        0        0        0        0        0         0        0  \n",
       "154        0        0        0        0        0         3        3  \n",
       "155        0        1        0        0        0         0        0  \n",
       "156        0        1        0        0        0         0        0  \n",
       "157        0        0        0        1        0         0        0  \n",
       "\n",
       "[158 rows x 27 columns]"
      ]
     },
     "execution_count": 2,
     "metadata": {},
     "output_type": "execute_result"
    }
   ],
   "source": [
    "# importando dados\n",
    "df = pd.read_csv('df_esteroids_MB_IN_AR.csv', sep = ';')\n",
    "df.columns = df.columns.astype(str)\n",
    "df.columns = [\"\".join(c if c.isalnum() else \"_\" for c in str(col)) for col in df.columns]\n",
    "df"
   ]
  },
  {
   "cell_type": "code",
   "execution_count": 3,
   "id": "1c99b361-06a2-49df-aea5-d18e8b5fd2e4",
   "metadata": {},
   "outputs": [
    {
     "data": {
      "text/html": [
       "<div>\n",
       "<style scoped>\n",
       "    .dataframe tbody tr th:only-of-type {\n",
       "        vertical-align: middle;\n",
       "    }\n",
       "\n",
       "    .dataframe tbody tr th {\n",
       "        vertical-align: top;\n",
       "    }\n",
       "\n",
       "    .dataframe thead th {\n",
       "        text-align: right;\n",
       "    }\n",
       "</style>\n",
       "<table border=\"1\" class=\"dataframe\">\n",
       "  <thead>\n",
       "    <tr style=\"text-align: right;\">\n",
       "      <th></th>\n",
       "      <th>__M__</th>\n",
       "      <th>__M_15__</th>\n",
       "      <th>_M_29__</th>\n",
       "      <th>_M_90__</th>\n",
       "      <th>_M_2_90__</th>\n",
       "      <th>_M_3_90_</th>\n",
       "      <th>_M_90_15__</th>\n",
       "      <th>_M_2_90_15__</th>\n",
       "      <th>_M_3_90_15_</th>\n",
       "      <th>_M_90_29__</th>\n",
       "      <th>...</th>\n",
       "      <th>_M_140_</th>\n",
       "      <th>_M_157_</th>\n",
       "      <th>_M_144_</th>\n",
       "      <th>m_z_103</th>\n",
       "      <th>m_z_129</th>\n",
       "      <th>m_z_143</th>\n",
       "      <th>m_z_169</th>\n",
       "      <th>m_z_244</th>\n",
       "      <th>_m_z_218</th>\n",
       "      <th>m_z_231</th>\n",
       "    </tr>\n",
       "  </thead>\n",
       "  <tbody>\n",
       "    <tr>\n",
       "      <th>0</th>\n",
       "      <td>3</td>\n",
       "      <td>3</td>\n",
       "      <td>0</td>\n",
       "      <td>0</td>\n",
       "      <td>0</td>\n",
       "      <td>0</td>\n",
       "      <td>3</td>\n",
       "      <td>3</td>\n",
       "      <td>0</td>\n",
       "      <td>0</td>\n",
       "      <td>...</td>\n",
       "      <td>0</td>\n",
       "      <td>0</td>\n",
       "      <td>0</td>\n",
       "      <td>0</td>\n",
       "      <td>1</td>\n",
       "      <td>1</td>\n",
       "      <td>2</td>\n",
       "      <td>0</td>\n",
       "      <td>0</td>\n",
       "      <td>0</td>\n",
       "    </tr>\n",
       "    <tr>\n",
       "      <th>1</th>\n",
       "      <td>3</td>\n",
       "      <td>0</td>\n",
       "      <td>0</td>\n",
       "      <td>0</td>\n",
       "      <td>0</td>\n",
       "      <td>3</td>\n",
       "      <td>0</td>\n",
       "      <td>0</td>\n",
       "      <td>0</td>\n",
       "      <td>0</td>\n",
       "      <td>...</td>\n",
       "      <td>0</td>\n",
       "      <td>0</td>\n",
       "      <td>0</td>\n",
       "      <td>0</td>\n",
       "      <td>0</td>\n",
       "      <td>0</td>\n",
       "      <td>0</td>\n",
       "      <td>0</td>\n",
       "      <td>0</td>\n",
       "      <td>0</td>\n",
       "    </tr>\n",
       "    <tr>\n",
       "      <th>2</th>\n",
       "      <td>3</td>\n",
       "      <td>0</td>\n",
       "      <td>0</td>\n",
       "      <td>0</td>\n",
       "      <td>0</td>\n",
       "      <td>0</td>\n",
       "      <td>0</td>\n",
       "      <td>0</td>\n",
       "      <td>0</td>\n",
       "      <td>0</td>\n",
       "      <td>...</td>\n",
       "      <td>0</td>\n",
       "      <td>0</td>\n",
       "      <td>0</td>\n",
       "      <td>0</td>\n",
       "      <td>1</td>\n",
       "      <td>0</td>\n",
       "      <td>0</td>\n",
       "      <td>0</td>\n",
       "      <td>0</td>\n",
       "      <td>0</td>\n",
       "    </tr>\n",
       "    <tr>\n",
       "      <th>3</th>\n",
       "      <td>1</td>\n",
       "      <td>0</td>\n",
       "      <td>0</td>\n",
       "      <td>0</td>\n",
       "      <td>0</td>\n",
       "      <td>0</td>\n",
       "      <td>0</td>\n",
       "      <td>0</td>\n",
       "      <td>0</td>\n",
       "      <td>0</td>\n",
       "      <td>...</td>\n",
       "      <td>0</td>\n",
       "      <td>0</td>\n",
       "      <td>0</td>\n",
       "      <td>0</td>\n",
       "      <td>0</td>\n",
       "      <td>1</td>\n",
       "      <td>0</td>\n",
       "      <td>0</td>\n",
       "      <td>0</td>\n",
       "      <td>0</td>\n",
       "    </tr>\n",
       "    <tr>\n",
       "      <th>4</th>\n",
       "      <td>3</td>\n",
       "      <td>1</td>\n",
       "      <td>0</td>\n",
       "      <td>0</td>\n",
       "      <td>0</td>\n",
       "      <td>0</td>\n",
       "      <td>0</td>\n",
       "      <td>0</td>\n",
       "      <td>0</td>\n",
       "      <td>0</td>\n",
       "      <td>...</td>\n",
       "      <td>1</td>\n",
       "      <td>0</td>\n",
       "      <td>0</td>\n",
       "      <td>0</td>\n",
       "      <td>1</td>\n",
       "      <td>3</td>\n",
       "      <td>0</td>\n",
       "      <td>0</td>\n",
       "      <td>0</td>\n",
       "      <td>0</td>\n",
       "    </tr>\n",
       "    <tr>\n",
       "      <th>...</th>\n",
       "      <td>...</td>\n",
       "      <td>...</td>\n",
       "      <td>...</td>\n",
       "      <td>...</td>\n",
       "      <td>...</td>\n",
       "      <td>...</td>\n",
       "      <td>...</td>\n",
       "      <td>...</td>\n",
       "      <td>...</td>\n",
       "      <td>...</td>\n",
       "      <td>...</td>\n",
       "      <td>...</td>\n",
       "      <td>...</td>\n",
       "      <td>...</td>\n",
       "      <td>...</td>\n",
       "      <td>...</td>\n",
       "      <td>...</td>\n",
       "      <td>...</td>\n",
       "      <td>...</td>\n",
       "      <td>...</td>\n",
       "      <td>...</td>\n",
       "    </tr>\n",
       "    <tr>\n",
       "      <th>153</th>\n",
       "      <td>2</td>\n",
       "      <td>1</td>\n",
       "      <td>0</td>\n",
       "      <td>3</td>\n",
       "      <td>0</td>\n",
       "      <td>0</td>\n",
       "      <td>3</td>\n",
       "      <td>0</td>\n",
       "      <td>0</td>\n",
       "      <td>0</td>\n",
       "      <td>...</td>\n",
       "      <td>0</td>\n",
       "      <td>0</td>\n",
       "      <td>0</td>\n",
       "      <td>0</td>\n",
       "      <td>0</td>\n",
       "      <td>0</td>\n",
       "      <td>0</td>\n",
       "      <td>0</td>\n",
       "      <td>0</td>\n",
       "      <td>0</td>\n",
       "    </tr>\n",
       "    <tr>\n",
       "      <th>154</th>\n",
       "      <td>3</td>\n",
       "      <td>0</td>\n",
       "      <td>0</td>\n",
       "      <td>2</td>\n",
       "      <td>0</td>\n",
       "      <td>0</td>\n",
       "      <td>1</td>\n",
       "      <td>0</td>\n",
       "      <td>0</td>\n",
       "      <td>0</td>\n",
       "      <td>...</td>\n",
       "      <td>0</td>\n",
       "      <td>0</td>\n",
       "      <td>0</td>\n",
       "      <td>0</td>\n",
       "      <td>0</td>\n",
       "      <td>0</td>\n",
       "      <td>0</td>\n",
       "      <td>0</td>\n",
       "      <td>3</td>\n",
       "      <td>3</td>\n",
       "    </tr>\n",
       "    <tr>\n",
       "      <th>155</th>\n",
       "      <td>3</td>\n",
       "      <td>1</td>\n",
       "      <td>0</td>\n",
       "      <td>0</td>\n",
       "      <td>0</td>\n",
       "      <td>0</td>\n",
       "      <td>0</td>\n",
       "      <td>0</td>\n",
       "      <td>0</td>\n",
       "      <td>0</td>\n",
       "      <td>...</td>\n",
       "      <td>0</td>\n",
       "      <td>0</td>\n",
       "      <td>0</td>\n",
       "      <td>0</td>\n",
       "      <td>1</td>\n",
       "      <td>0</td>\n",
       "      <td>0</td>\n",
       "      <td>0</td>\n",
       "      <td>0</td>\n",
       "      <td>0</td>\n",
       "    </tr>\n",
       "    <tr>\n",
       "      <th>156</th>\n",
       "      <td>1</td>\n",
       "      <td>2</td>\n",
       "      <td>0</td>\n",
       "      <td>0</td>\n",
       "      <td>0</td>\n",
       "      <td>0</td>\n",
       "      <td>1</td>\n",
       "      <td>0</td>\n",
       "      <td>0</td>\n",
       "      <td>0</td>\n",
       "      <td>...</td>\n",
       "      <td>0</td>\n",
       "      <td>0</td>\n",
       "      <td>0</td>\n",
       "      <td>0</td>\n",
       "      <td>1</td>\n",
       "      <td>0</td>\n",
       "      <td>0</td>\n",
       "      <td>0</td>\n",
       "      <td>0</td>\n",
       "      <td>0</td>\n",
       "    </tr>\n",
       "    <tr>\n",
       "      <th>157</th>\n",
       "      <td>1</td>\n",
       "      <td>1</td>\n",
       "      <td>0</td>\n",
       "      <td>1</td>\n",
       "      <td>0</td>\n",
       "      <td>0</td>\n",
       "      <td>0</td>\n",
       "      <td>0</td>\n",
       "      <td>0</td>\n",
       "      <td>0</td>\n",
       "      <td>...</td>\n",
       "      <td>0</td>\n",
       "      <td>0</td>\n",
       "      <td>0</td>\n",
       "      <td>0</td>\n",
       "      <td>0</td>\n",
       "      <td>0</td>\n",
       "      <td>1</td>\n",
       "      <td>0</td>\n",
       "      <td>0</td>\n",
       "      <td>0</td>\n",
       "    </tr>\n",
       "  </tbody>\n",
       "</table>\n",
       "<p>158 rows × 26 columns</p>\n",
       "</div>"
      ],
      "text/plain": [
       "     __M__  __M_15__  _M_29__  _M_90__  _M_2_90__  _M_3_90_  _M_90_15__  \\\n",
       "0        3         3        0        0          0         0           3   \n",
       "1        3         0        0        0          0         3           0   \n",
       "2        3         0        0        0          0         0           0   \n",
       "3        1         0        0        0          0         0           0   \n",
       "4        3         1        0        0          0         0           0   \n",
       "..     ...       ...      ...      ...        ...       ...         ...   \n",
       "153      2         1        0        3          0         0           3   \n",
       "154      3         0        0        2          0         0           1   \n",
       "155      3         1        0        0          0         0           0   \n",
       "156      1         2        0        0          0         0           1   \n",
       "157      1         1        0        1          0         0           0   \n",
       "\n",
       "     _M_2_90_15__  _M_3_90_15_  _M_90_29__  ...  _M_140_  _M_157_  _M_144_  \\\n",
       "0               3            0           0  ...        0        0        0   \n",
       "1               0            0           0  ...        0        0        0   \n",
       "2               0            0           0  ...        0        0        0   \n",
       "3               0            0           0  ...        0        0        0   \n",
       "4               0            0           0  ...        1        0        0   \n",
       "..            ...          ...         ...  ...      ...      ...      ...   \n",
       "153             0            0           0  ...        0        0        0   \n",
       "154             0            0           0  ...        0        0        0   \n",
       "155             0            0           0  ...        0        0        0   \n",
       "156             0            0           0  ...        0        0        0   \n",
       "157             0            0           0  ...        0        0        0   \n",
       "\n",
       "     m_z_103  m_z_129  m_z_143  m_z_169  m_z_244  _m_z_218  m_z_231  \n",
       "0          0        1        1        2        0         0        0  \n",
       "1          0        0        0        0        0         0        0  \n",
       "2          0        1        0        0        0         0        0  \n",
       "3          0        0        1        0        0         0        0  \n",
       "4          0        1        3        0        0         0        0  \n",
       "..       ...      ...      ...      ...      ...       ...      ...  \n",
       "153        0        0        0        0        0         0        0  \n",
       "154        0        0        0        0        0         3        3  \n",
       "155        0        1        0        0        0         0        0  \n",
       "156        0        1        0        0        0         0        0  \n",
       "157        0        0        0        1        0         0        0  \n",
       "\n",
       "[158 rows x 26 columns]"
      ]
     },
     "execution_count": 3,
     "metadata": {},
     "output_type": "execute_result"
    }
   ],
   "source": [
    "# separando variáveis descritoras\n",
    "Xi = df.iloc[:,1::]\n",
    "Xi"
   ]
  },
  {
   "cell_type": "code",
   "execution_count": 4,
   "id": "faed1970-b9da-40bc-bf99-c8b27f620bca",
   "metadata": {},
   "outputs": [
    {
     "data": {
      "text/plain": [
       "array([0, 0, 0, 0, 0, 0, 0, 0, 0, 0, 0, 0, 0, 0, 0, 0, 0, 0, 0, 0, 0, 0,\n",
       "       0, 0, 0, 0, 0, 0, 0, 0, 0, 0, 0, 0, 0, 0, 0, 0, 0, 0, 0, 0, 0, 0,\n",
       "       0, 0, 0, 0, 0, 0, 0, 0, 0, 0, 0, 0, 0, 0, 0, 0, 0, 0, 0, 0, 0, 0,\n",
       "       0, 0, 0, 0, 0, 0, 0, 0, 0, 0, 0, 0, 0, 0, 0, 0, 0, 0, 0, 0, 0, 0,\n",
       "       0, 0, 0, 0, 1, 1, 1, 1, 1, 1, 1, 1, 1, 1, 1, 1, 1, 1, 1, 1, 1, 1,\n",
       "       1, 1, 1, 1, 1, 1, 1, 1, 1, 1, 1, 1, 1, 1, 1, 1, 1, 1, 1, 1, 1, 1,\n",
       "       1, 1, 1, 1, 1, 1, 1, 1, 1, 1, 1, 1, 1, 1, 1, 1, 1, 1, 1, 1, 1, 1,\n",
       "       1, 1, 1, 1])"
      ]
     },
     "execution_count": 4,
     "metadata": {},
     "output_type": "execute_result"
    }
   ],
   "source": [
    "# variável target\n",
    "# separando classe 0(nao-derivado de esteroide) e 1\n",
    "from collections import Counter\n",
    "\n",
    "# Supondo que df seja o seu DataFrame\n",
    "\n",
    "# Inicializando uma nova coluna 'Classe_bin' com valor padrão 0\n",
    "df['Classe_AAS'] = 0\n",
    "\n",
    "# Atribuindo valor 1 para o intervalo [91:,:]\n",
    "df.loc[92:, 'Classe_AAS'] = 1\n",
    "\n",
    "# Exibindo as contagens após a separação\n",
    "counter = Counter(df['Classe_AAS'])\n",
    "y = df['Classe_AAS']\n",
    "y = np.array(y)\n",
    "y"
   ]
  },
  {
   "cell_type": "code",
   "execution_count": 5,
   "id": "de583673-900b-4407-bad7-e8d800b873d8",
   "metadata": {},
   "outputs": [
    {
     "name": "stdout",
     "output_type": "stream",
     "text": [
      "Contagem inicial das classes: Counter({0: 92, 1: 66})\n",
      "Contagem após UnderSampler: Counter({0: 66, 1: 66})\n"
     ]
    }
   ],
   "source": [
    "# balanceando os dados \n",
    "from imblearn.under_sampling import RandomUnderSampler\n",
    "from collections import Counter\n",
    "\n",
    "# Separando classe 0 (não derivado de esteroide) e 1\n",
    "y = np.where(df['Classe_AAS'].values == 0, 0, 1)\n",
    "y = np.array(y)\n",
    "y = y.ravel()\n",
    "# Verificando a contagem inicial das classes\n",
    "print(\"Contagem inicial das classes:\", Counter(y))\n",
    "\n",
    "# Aplicando UnderSampler usando RandomUnderSampler\n",
    "rs = RandomUnderSampler(random_state=42)\n",
    "xi_resampled, y_resampled = rs.fit_resample(Xi, y)\n",
    "\n",
    "# Verificando a contagem após o UnderSampler\n",
    "print(\"Contagem após UnderSampler:\", Counter(y_resampled))"
   ]
  },
  {
   "cell_type": "code",
   "execution_count": 6,
   "id": "6c46c22a-bd37-4724-ac7b-c312b0393c9c",
   "metadata": {},
   "outputs": [],
   "source": [
    "# importando modelos\n",
    "modelo_XGB = pickle.load(open('XGradientBoosting_anabolizante_model.pkl', 'rb'))\n",
    "modelo_RF = pickle.load(open('RandomForest_anabolizante_model.pkl', 'rb'))\n"
   ]
  },
  {
   "cell_type": "code",
   "execution_count": 7,
   "id": "4973b514-dda8-414f-a8f8-422aa00e602d",
   "metadata": {},
   "outputs": [],
   "source": [
    "# separando amostras de treino e teste \n",
    "X_train, X_test, y_train, y_test = train_test_split(xi_resampled, y_resampled, test_size=0.33, random_state=29, shuffle=True, stratify=y_resampled)"
   ]
  },
  {
   "cell_type": "code",
   "execution_count": 8,
   "id": "514ec44e-fe96-4520-949c-85a6d2f024bf",
   "metadata": {},
   "outputs": [],
   "source": [
    "# predição probabilistica\n",
    "## RF\n",
    "modelo_RF = modelo_RF.fit(X_train,y_train)\n",
    "pred_RF = modelo_RF.predict_proba(X_test)[:, 1]\n",
    "y_pred_RF = modelo_RF.predict(X_test)\n",
    "## XGB\n",
    "modelo_XGB = modelo_XGB.fit(X_train,y_train)\n",
    "pred_XGB = modelo_XGB.predict_proba(X_test)[:, 1]\n",
    "y_pred_XGB = modelo_XGB.predict(X_test)"
   ]
  },
  {
   "cell_type": "code",
   "execution_count": 9,
   "id": "931e7a0d-627b-46ba-84ac-a67d42af236e",
   "metadata": {},
   "outputs": [
    {
     "data": {
      "text/html": [
       "<div>\n",
       "<style scoped>\n",
       "    .dataframe tbody tr th:only-of-type {\n",
       "        vertical-align: middle;\n",
       "    }\n",
       "\n",
       "    .dataframe tbody tr th {\n",
       "        vertical-align: top;\n",
       "    }\n",
       "\n",
       "    .dataframe thead th {\n",
       "        text-align: right;\n",
       "    }\n",
       "</style>\n",
       "<table border=\"1\" class=\"dataframe\">\n",
       "  <thead>\n",
       "    <tr style=\"text-align: right;\">\n",
       "      <th></th>\n",
       "      <th>0</th>\n",
       "    </tr>\n",
       "  </thead>\n",
       "  <tbody>\n",
       "    <tr>\n",
       "      <th>0.003903</th>\n",
       "      <td>0</td>\n",
       "    </tr>\n",
       "    <tr>\n",
       "      <th>0.001363</th>\n",
       "      <td>0</td>\n",
       "    </tr>\n",
       "    <tr>\n",
       "      <th>0.002770</th>\n",
       "      <td>0</td>\n",
       "    </tr>\n",
       "    <tr>\n",
       "      <th>0.002799</th>\n",
       "      <td>0</td>\n",
       "    </tr>\n",
       "    <tr>\n",
       "      <th>0.001543</th>\n",
       "      <td>0</td>\n",
       "    </tr>\n",
       "    <tr>\n",
       "      <th>0.992365</th>\n",
       "      <td>1</td>\n",
       "    </tr>\n",
       "    <tr>\n",
       "      <th>0.007161</th>\n",
       "      <td>0</td>\n",
       "    </tr>\n",
       "    <tr>\n",
       "      <th>0.004525</th>\n",
       "      <td>0</td>\n",
       "    </tr>\n",
       "    <tr>\n",
       "      <th>0.001454</th>\n",
       "      <td>0</td>\n",
       "    </tr>\n",
       "    <tr>\n",
       "      <th>0.993741</th>\n",
       "      <td>1</td>\n",
       "    </tr>\n",
       "    <tr>\n",
       "      <th>0.794474</th>\n",
       "      <td>1</td>\n",
       "    </tr>\n",
       "    <tr>\n",
       "      <th>0.640239</th>\n",
       "      <td>1</td>\n",
       "    </tr>\n",
       "    <tr>\n",
       "      <th>0.987695</th>\n",
       "      <td>1</td>\n",
       "    </tr>\n",
       "    <tr>\n",
       "      <th>0.996004</th>\n",
       "      <td>1</td>\n",
       "    </tr>\n",
       "    <tr>\n",
       "      <th>0.002104</th>\n",
       "      <td>0</td>\n",
       "    </tr>\n",
       "    <tr>\n",
       "      <th>0.002521</th>\n",
       "      <td>0</td>\n",
       "    </tr>\n",
       "    <tr>\n",
       "      <th>0.000977</th>\n",
       "      <td>0</td>\n",
       "    </tr>\n",
       "    <tr>\n",
       "      <th>0.960520</th>\n",
       "      <td>1</td>\n",
       "    </tr>\n",
       "    <tr>\n",
       "      <th>0.014379</th>\n",
       "      <td>0</td>\n",
       "    </tr>\n",
       "    <tr>\n",
       "      <th>0.965098</th>\n",
       "      <td>1</td>\n",
       "    </tr>\n",
       "    <tr>\n",
       "      <th>0.866785</th>\n",
       "      <td>1</td>\n",
       "    </tr>\n",
       "    <tr>\n",
       "      <th>0.002799</th>\n",
       "      <td>0</td>\n",
       "    </tr>\n",
       "    <tr>\n",
       "      <th>0.896903</th>\n",
       "      <td>1</td>\n",
       "    </tr>\n",
       "    <tr>\n",
       "      <th>0.004525</th>\n",
       "      <td>0</td>\n",
       "    </tr>\n",
       "    <tr>\n",
       "      <th>0.970342</th>\n",
       "      <td>1</td>\n",
       "    </tr>\n",
       "    <tr>\n",
       "      <th>0.875389</th>\n",
       "      <td>1</td>\n",
       "    </tr>\n",
       "    <tr>\n",
       "      <th>0.001646</th>\n",
       "      <td>0</td>\n",
       "    </tr>\n",
       "    <tr>\n",
       "      <th>0.866292</th>\n",
       "      <td>1</td>\n",
       "    </tr>\n",
       "    <tr>\n",
       "      <th>0.944252</th>\n",
       "      <td>1</td>\n",
       "    </tr>\n",
       "    <tr>\n",
       "      <th>0.970342</th>\n",
       "      <td>1</td>\n",
       "    </tr>\n",
       "    <tr>\n",
       "      <th>0.908712</th>\n",
       "      <td>1</td>\n",
       "    </tr>\n",
       "    <tr>\n",
       "      <th>0.039336</th>\n",
       "      <td>0</td>\n",
       "    </tr>\n",
       "    <tr>\n",
       "      <th>0.997286</th>\n",
       "      <td>1</td>\n",
       "    </tr>\n",
       "    <tr>\n",
       "      <th>0.896903</th>\n",
       "      <td>1</td>\n",
       "    </tr>\n",
       "    <tr>\n",
       "      <th>0.014787</th>\n",
       "      <td>0</td>\n",
       "    </tr>\n",
       "    <tr>\n",
       "      <th>0.107465</th>\n",
       "      <td>0</td>\n",
       "    </tr>\n",
       "    <tr>\n",
       "      <th>0.971043</th>\n",
       "      <td>1</td>\n",
       "    </tr>\n",
       "    <tr>\n",
       "      <th>0.074074</th>\n",
       "      <td>0</td>\n",
       "    </tr>\n",
       "    <tr>\n",
       "      <th>0.892063</th>\n",
       "      <td>1</td>\n",
       "    </tr>\n",
       "    <tr>\n",
       "      <th>0.002115</th>\n",
       "      <td>0</td>\n",
       "    </tr>\n",
       "    <tr>\n",
       "      <th>0.059697</th>\n",
       "      <td>0</td>\n",
       "    </tr>\n",
       "    <tr>\n",
       "      <th>0.892063</th>\n",
       "      <td>1</td>\n",
       "    </tr>\n",
       "    <tr>\n",
       "      <th>0.992365</th>\n",
       "      <td>1</td>\n",
       "    </tr>\n",
       "    <tr>\n",
       "      <th>0.830155</th>\n",
       "      <td>1</td>\n",
       "    </tr>\n",
       "  </tbody>\n",
       "</table>\n",
       "</div>"
      ],
      "text/plain": [
       "          0\n",
       "0.003903  0\n",
       "0.001363  0\n",
       "0.002770  0\n",
       "0.002799  0\n",
       "0.001543  0\n",
       "0.992365  1\n",
       "0.007161  0\n",
       "0.004525  0\n",
       "0.001454  0\n",
       "0.993741  1\n",
       "0.794474  1\n",
       "0.640239  1\n",
       "0.987695  1\n",
       "0.996004  1\n",
       "0.002104  0\n",
       "0.002521  0\n",
       "0.000977  0\n",
       "0.960520  1\n",
       "0.014379  0\n",
       "0.965098  1\n",
       "0.866785  1\n",
       "0.002799  0\n",
       "0.896903  1\n",
       "0.004525  0\n",
       "0.970342  1\n",
       "0.875389  1\n",
       "0.001646  0\n",
       "0.866292  1\n",
       "0.944252  1\n",
       "0.970342  1\n",
       "0.908712  1\n",
       "0.039336  0\n",
       "0.997286  1\n",
       "0.896903  1\n",
       "0.014787  0\n",
       "0.107465  0\n",
       "0.971043  1\n",
       "0.074074  0\n",
       "0.892063  1\n",
       "0.002115  0\n",
       "0.059697  0\n",
       "0.892063  1\n",
       "0.992365  1\n",
       "0.830155  1"
      ]
     },
     "execution_count": 9,
     "metadata": {},
     "output_type": "execute_result"
    }
   ],
   "source": [
    "df_compare = pd.DataFrame(y_pred_XGB,pred_XGB)\n",
    "df_compare"
   ]
  },
  {
   "cell_type": "code",
   "execution_count": 10,
   "id": "0dc7c225-8758-4dc9-b9e0-f09adc3bd0c7",
   "metadata": {},
   "outputs": [
    {
     "name": "stdout",
     "output_type": "stream",
     "text": [
      "[[20  2]\n",
      " [ 0 22]]\n"
     ]
    }
   ],
   "source": [
    "# confusion matrix RF\n",
    "\n",
    "cf_matrix = confusion_matrix(y_test, y_pred_RF)\n",
    "print(cf_matrix)"
   ]
  },
  {
   "cell_type": "code",
   "execution_count": 11,
   "id": "99148de9-1dbf-48de-a744-dbd3e8edf66e",
   "metadata": {},
   "outputs": [
    {
     "data": {
      "text/plain": [
       "<Axes: >"
      ]
     },
     "execution_count": 11,
     "metadata": {},
     "output_type": "execute_result"
    },
    {
     "data": {
      "image/png": "[encoded data removed]",
      "text/plain": [
       "<Figure size 640x480 with 2 Axes>"
      ]
     },
     "metadata": {},
     "output_type": "display_data"
    }
   ],
   "source": [
    "import seaborn as sns\n",
    "sns.heatmap(cf_matrix, annot=True)"
   ]
  },
  {
   "cell_type": "code",
   "execution_count": 12,
   "id": "ac76e976-cc2f-440d-bdd8-81f9c79a64d0",
   "metadata": {},
   "outputs": [
    {
     "name": "stdout",
     "output_type": "stream",
     "text": [
      "[[20  2]\n",
      " [ 1 21]]\n"
     ]
    }
   ],
   "source": [
    "# confusion matrix XGB\n",
    "\n",
    "cf_matrix = confusion_matrix(y_test, y_pred_XGB)\n",
    "print(cf_matrix)"
   ]
  },
  {
   "cell_type": "code",
   "execution_count": 13,
   "id": "a535f83a-177b-46d0-aaa2-50883aeabe59",
   "metadata": {},
   "outputs": [
    {
     "data": {
      "text/plain": [
       "<Axes: >"
      ]
     },
     "execution_count": 13,
     "metadata": {},
     "output_type": "execute_result"
    },
    {
     "data": {
      "image/png": "[encoded data removed]",
      "text/plain": [
       "<Figure size 640x480 with 2 Axes>"
      ]
     },
     "metadata": {},
     "output_type": "display_data"
    }
   ],
   "source": [
    "import seaborn as sns\n",
    "sns.heatmap(cf_matrix, annot=True)"
   ]
  },
  {
   "cell_type": "code",
   "execution_count": 16,
   "id": "9c6cf453-821d-4fbe-b8a8-f1d74e7cb1ab",
   "metadata": {},
   "outputs": [
    {
     "data": {
      "image/png": "[encoded data removed]",
      "text/plain": [
       "<Figure size 800x500 with 1 Axes>"
      ]
     },
     "metadata": {},
     "output_type": "display_data"
    }
   ],
   "source": [
    "# Supondo que 'pred_XGB' é a probabilidade prevista pelo modelo\n",
    "fpr, tpr, thresholds = roc_curve(y_test, pred_XGB)\n",
    "roc_auc = auc(fpr, tpr)\n",
    "\n",
    "# Criar a curva ROC com Seaborn\n",
    "sns.set(style='whitegrid')\n",
    "plt.figure(figsize=(8, 5))\n",
    "\n",
    "# Curva ROC\n",
    "sns.lineplot(x=fpr, y=tpr, color='red', label=f'ROC Curve (AUC = {roc_auc:.2f})')\n",
    "\n",
    "# Linha de chute aleatório\n",
    "plt.plot([0, 1], [0, 1], color='blue', linestyle='dashed', label='Random Guessing')\n",
    "\n",
    "# Configurações do gráfico\n",
    "plt.xlabel('False Positive Rate')\n",
    "plt.ylabel('True Positive Rate')\n",
    "plt.title('ROC Curve for Extreme Gradiente Boosting')\n",
    "plt.legend()\n",
    "plt.show()"
   ]
  },
  {
   "cell_type": "code",
   "execution_count": 31,
   "id": "17056808-0219-48d4-a2e2-0723a2077b12",
   "metadata": {},
   "outputs": [
    {
     "data": {
      "text/plain": [
       "<Figure size 640x480 with 0 Axes>"
      ]
     },
     "metadata": {},
     "output_type": "display_data"
    }
   ],
   "source": [
    "plt.savefig(\"roc_curve_XGB.jpg\", dpi=600)"
   ]
  },
  {
   "cell_type": "code",
   "execution_count": 26,
   "id": "c5c24666-e723-4016-a689-8213f6d14fc1",
   "metadata": {},
   "outputs": [],
   "source": [
    "fpr, tpr, thresholds = roc_curve(y_test, pred_RF)"
   ]
  },
  {
   "cell_type": "code",
   "execution_count": 27,
   "id": "fcd6f8b6-bd17-424a-b8ff-c768027e2360",
   "metadata": {},
   "outputs": [
    {
     "data": {
      "text/plain": [
       "array([       inf, 0.94951131, 0.92897727, 0.92897252, 0.90653474,\n",
       "       0.89754978, 0.86025995, 0.84888629, 0.83747447, 0.80894003,\n",
       "       0.5793481 , 0.10671937, 0.06645963, 0.06060606, 0.01581028,\n",
       "       0.        ])"
      ]
     },
     "execution_count": 27,
     "metadata": {},
     "output_type": "execute_result"
    }
   ],
   "source": [
    "thresholds"
   ]
  },
  {
   "cell_type": "code",
   "execution_count": 28,
   "id": "8bea4519-e8fc-4a6d-a297-1aacc1d8e239",
   "metadata": {},
   "outputs": [
    {
     "name": "stdout",
     "output_type": "stream",
     "text": [
      "Help on function roc_curve in module sklearn.metrics._ranking:\n",
      "\n",
      "roc_curve(y_true, y_score, *, pos_label=None, sample_weight=None, drop_intermediate=True)\n",
      "    Compute Receiver operating characteristic (ROC).\n",
      "    \n",
      "    Note: this implementation is restricted to the binary classification task.\n",
      "    \n",
      "    Read more in the :ref:`User Guide <roc_metrics>`.\n",
      "    \n",
      "    Parameters\n",
      "    ----------\n",
      "    y_true : array-like of shape (n_samples,)\n",
      "        True binary labels. If labels are not either {-1, 1} or {0, 1}, then\n",
      "        pos_label should be explicitly given.\n",
      "    \n",
      "    y_score : array-like of shape (n_samples,)\n",
      "        Target scores, can either be probability estimates of the positive\n",
      "        class, confidence values, or non-thresholded measure of decisions\n",
      "        (as returned by \"decision_function\" on some classifiers).\n",
      "    \n",
      "    pos_label : int, float, bool or str, default=None\n",
      "        The label of the positive class.\n",
      "        When ``pos_label=None``, if `y_true` is in {-1, 1} or {0, 1},\n",
      "        ``pos_label`` is set to 1, otherwise an error will be raised.\n",
      "    \n",
      "    sample_weight : array-like of shape (n_samples,), default=None\n",
      "        Sample weights.\n",
      "    \n",
      "    drop_intermediate : bool, default=True\n",
      "        Whether to drop some suboptimal thresholds which would not appear\n",
      "        on a plotted ROC curve. This is useful in order to create lighter\n",
      "        ROC curves.\n",
      "    \n",
      "        .. versionadded:: 0.17\n",
      "           parameter *drop_intermediate*.\n",
      "    \n",
      "    Returns\n",
      "    -------\n",
      "    fpr : ndarray of shape (>2,)\n",
      "        Increasing false positive rates such that element i is the false\n",
      "        positive rate of predictions with score >= `thresholds[i]`.\n",
      "    \n",
      "    tpr : ndarray of shape (>2,)\n",
      "        Increasing true positive rates such that element `i` is the true\n",
      "        positive rate of predictions with score >= `thresholds[i]`.\n",
      "    \n",
      "    thresholds : ndarray of shape (n_thresholds,)\n",
      "        Decreasing thresholds on the decision function used to compute\n",
      "        fpr and tpr. `thresholds[0]` represents no instances being predicted\n",
      "        and is arbitrarily set to `np.inf`.\n",
      "    \n",
      "    See Also\n",
      "    --------\n",
      "    RocCurveDisplay.from_estimator : Plot Receiver Operating Characteristic\n",
      "        (ROC) curve given an estimator and some data.\n",
      "    RocCurveDisplay.from_predictions : Plot Receiver Operating Characteristic\n",
      "        (ROC) curve given the true and predicted values.\n",
      "    det_curve: Compute error rates for different probability thresholds.\n",
      "    roc_auc_score : Compute the area under the ROC curve.\n",
      "    \n",
      "    Notes\n",
      "    -----\n",
      "    Since the thresholds are sorted from low to high values, they\n",
      "    are reversed upon returning them to ensure they correspond to both ``fpr``\n",
      "    and ``tpr``, which are sorted in reversed order during their calculation.\n",
      "    \n",
      "    An arbitrary threshold is added for the case `tpr=0` and `fpr=0` to\n",
      "    ensure that the curve starts at `(0, 0)`. This threshold corresponds to the\n",
      "    `np.inf`.\n",
      "    \n",
      "    References\n",
      "    ----------\n",
      "    .. [1] `Wikipedia entry for the Receiver operating characteristic\n",
      "            <https://en.wikipedia.org/wiki/Receiver_operating_characteristic>`_\n",
      "    \n",
      "    .. [2] Fawcett T. An introduction to ROC analysis[J]. Pattern Recognition\n",
      "           Letters, 2006, 27(8):861-874.\n",
      "    \n",
      "    Examples\n",
      "    --------\n",
      "    >>> import numpy as np\n",
      "    >>> from sklearn import metrics\n",
      "    >>> y = np.array([1, 1, 2, 2])\n",
      "    >>> scores = np.array([0.1, 0.4, 0.35, 0.8])\n",
      "    >>> fpr, tpr, thresholds = metrics.roc_curve(y, scores, pos_label=2)\n",
      "    >>> fpr\n",
      "    array([0. , 0. , 0.5, 0.5, 1. ])\n",
      "    >>> tpr\n",
      "    array([0. , 0.5, 0.5, 1. , 1. ])\n",
      "    >>> thresholds\n",
      "    array([ inf, 0.8 , 0.4 , 0.35, 0.1 ])\n",
      "\n"
     ]
    }
   ],
   "source": [
    "help(roc_curve)"
   ]
  },
  {
   "cell_type": "code",
   "execution_count": 43,
   "id": "4790575a-6132-46b5-9416-e45a4ac00f8c",
   "metadata": {},
   "outputs": [
    {
     "data": {
      "image/png": "[encoded data removed]",
      "text/plain": [
       "<Figure size 800x500 with 1 Axes>"
      ]
     },
     "metadata": {},
     "output_type": "display_data"
    }
   ],
   "source": [
    "# Supondo que 'pred_RF' é a probabilidade prevista pelo modelo\n",
    "fpr, tpr, thresholds = roc_curve(y_test, pred_RF)\n",
    "roc_auc = auc(fpr, tpr)\n",
    "\n",
    "# Criar a curva ROC com Seaborn\n",
    "sns.set(style='whitegrid')\n",
    "plt.figure(figsize=(8, 5))\n",
    "\n",
    "# Curva ROC\n",
    "sns.lineplot(x=fpr, y=tpr, color='red', label=f'ROC Curve (AUC = {roc_auc:.2f})')\n",
    "\n",
    "# Linha de chute aleatório\n",
    "plt.plot([0, 1], [0, 1], color='blue', linestyle='dashed', label='Random Guessing')\n",
    "\n",
    "# Configurações do gráfico\n",
    "plt.xlabel('False Positive Rate')\n",
    "plt.ylabel('True Positive Rate')\n",
    "plt.title('ROC Curve for Random Forest')\n",
    "plt.legend()\n",
    "plt.show()"
   ]
  },
  {
   "cell_type": "code",
   "execution_count": 47,
   "id": "fcf79856-d2b1-4d9d-a55d-6186be022bff",
   "metadata": {},
   "outputs": [
    {
     "data": {
      "text/plain": [
       "30"
      ]
     },
     "execution_count": 47,
     "metadata": {},
     "output_type": "execute_result"
    }
   ],
   "source": [
    "len(set(pred_RF))"
   ]
  },
  {
   "cell_type": "code",
   "execution_count": 44,
   "id": "34a957c6-5189-4044-b9e0-34e6af1aa17b",
   "metadata": {},
   "outputs": [
    {
     "data": {
      "text/plain": [
       "16"
      ]
     },
     "execution_count": 44,
     "metadata": {},
     "output_type": "execute_result"
    }
   ],
   "source": [
    "len(thresholds)"
   ]
  },
  {
   "cell_type": "code",
   "execution_count": 32,
   "id": "0cd5c55a-5642-4b90-a7e3-6303b76b5024",
   "metadata": {},
   "outputs": [
    {
     "data": {
      "text/plain": [
       "<Figure size 640x480 with 0 Axes>"
      ]
     },
     "metadata": {},
     "output_type": "display_data"
    }
   ],
   "source": [
    "plt.savefig(\"roc_curve_RF.jpg\", dpi=600)"
   ]
  },
  {
   "cell_type": "code",
   "execution_count": 29,
   "id": "a1a52acf-ecf9-467d-b9a5-d2cf23f09f0b",
   "metadata": {},
   "outputs": [
    {
     "data": {
      "image/png": "[encoded data removed]",
      "text/plain": [
       "<Figure size 800x500 with 1 Axes>"
      ]
     },
     "metadata": {},
     "output_type": "display_data"
    }
   ],
   "source": [
    "# PR curve RF\n",
    "import matplotlib.pyplot as plt\n",
    "import seaborn as sns\n",
    "from sklearn.metrics import precision_recall_curve, auc, average_precision_score\n",
    "\n",
    "# Supondo que 'pred_RF' é a probabilidade prevista pelo modelo\n",
    "precision, recall, thresholds = precision_recall_curve(y_test, pred_RF)\n",
    "average_precision = average_precision_score(y_test, pred_RF)\n",
    "\n",
    "# Criar a curva Precision-Recall com Seaborn\n",
    "sns.set(style='whitegrid')\n",
    "plt.figure(figsize=(8, 5))\n",
    "\n",
    "# Curva Precision-Recall\n",
    "sns.lineplot(x=recall, y=precision, color='green', label=f'Precision-Recall Curve (Avg. Precision = {average_precision:.2f})')\n",
    "# Linha de chute aleatório\n",
    "plt.plot([0, 1], [1, 0], color='blue', linestyle='dashed', label='Random Guessing')\n",
    "\n",
    "# Configurações do gráfico\n",
    "plt.xlabel('Recall')\n",
    "plt.ylabel('Precision')\n",
    "plt.title('Precision-Recall Curve for Random Forest')\n",
    "plt.legend()\n",
    "plt.show()\n"
   ]
  },
  {
   "cell_type": "code",
   "execution_count": 38,
   "id": "9b98fc05-2f3b-4dce-a077-65d861d1d418",
   "metadata": {},
   "outputs": [
    {
     "data": {
      "image/png": "[encoded data removed]",
      "text/plain": [
       "<Figure size 800x500 with 1 Axes>"
      ]
     },
     "metadata": {},
     "output_type": "display_data"
    }
   ],
   "source": [
    "# PR curve RF\n",
    "import matplotlib.pyplot as plt\n",
    "import seaborn as sns\n",
    "from sklearn.metrics import precision_recall_curve, auc, average_precision_score\n",
    "\n",
    "# Supondo que 'pred_RF' é a probabilidade prevista pelo modelo\n",
    "precision, recall, thresholds = precision_recall_curve(y_test, pred_XGB)\n",
    "average_precision = average_precision_score(y_test, pred_XGB)\n",
    "\n",
    "# Criar a curva Precision-Recall com Seaborn\n",
    "sns.set(style='whitegrid')\n",
    "plt.figure(figsize=(8, 5))\n",
    "\n",
    "# Curva Precision-Recall\n",
    "sns.lineplot(x=recall, y=precision, color='green', label=f'Precision-Recall Curve (Média. Precision = {average_precision:.2f})')\n",
    "# Linha de chute aleatório\n",
    "plt.plot([0, 1], [1, 0], color='blue', linestyle='dashed', label='Random Guessing')\n",
    "\n",
    "# Configurações do gráfico\n",
    "plt.xlabel('Recall')\n",
    "plt.ylabel('Precision')\n",
    "plt.title('Curva Precision-Recall para Extreme Gradient Boosting')\n",
    "plt.legend()\n",
    "plt.show()"
   ]
  },
  {
   "cell_type": "code",
   "execution_count": 22,
   "id": "41b931c0-556c-46ff-a2f9-8e2cc1bcdbdd",
   "metadata": {},
   "outputs": [],
   "source": [
    "def mcc_f1(ground_truths, predicted_values):\n",
    "    \n",
    "    \"\"\"\n",
    "    The function mcc_f1 calculates MCC and F1 scores based on varying thresholds identifed by the PRC function\n",
    "    based on inputs -  ground truth vaules and predicted values.\n",
    "    \n",
    "    Parameters\n",
    "    ----------\n",
    "    ground_truths, predicted_values : numpy.ndarray;\n",
    "                        Input arrays; groundtruth values (True values) and predicted values.\n",
    "    \n",
    "    Returns\n",
    "    -------\n",
    "    mcc, f1, thresholds: numpy.ndarray;\n",
    "                           Output arrays; Unit normalized MCC scores and F1 score values \n",
    "                           for every threshold.           \n",
    "    \"\"\"\n",
    "    \n",
    "    mcc = []   \n",
    "    f1 = []\n",
    "    \n",
    "    # Generating thresholds with the PRC function\n",
    "    precision, recall, thresholds = sklearn.metrics.precision_recall_curve(\n",
    "                                    ground_truths, predicted_values)\n",
    "\n",
    "    # For every value of the thresholds (cutoffs), calculate MCC and F1 scores :\n",
    "    for T in thresholds:\n",
    "        predicted_values_after_cutoff = predicted_values > T  # Positive classes are determined for every predicted value that exceeds the threshold. \n",
    "    \n",
    "        mcc.append((sklearn.metrics.matthews_corrcoef(\n",
    "                    ground_truths, predicted_values_after_cutoff)+1)*0.5) # get normalised MCC: change the range of MCC from [-1, 1] to [0, 1] \n",
    "        \n",
    "        f1.append(sklearn.metrics.f1_score(\n",
    "                    ground_truths, predicted_values_after_cutoff))\n",
    "        \n",
    "    mcc = np.array(mcc)\n",
    "    f1 = np.array(f1)  \n",
    "    \n",
    "    # Resulting values are an array of MCC & F1 scores across different thresholds (cutoffs)  \n",
    "    return mcc,f1, thresholds\n",
    "\n",
    "# MCC-F1 Metric:\n",
    "def MCC_F1_Metric(mcc,f1,thresholds, W_num_of_subranges = 100):\n",
    "    \n",
    "    \"\"\"\n",
    "    MCC_F1_Metric function computes the MCC-F1 metric i.e. the average distances between the predcition scores to the point of Perfect Performace (1,1) \n",
    "    and also results in the best threshold value\n",
    "    \n",
    "    Parameters\n",
    "    ----------\n",
    "    \n",
    "    mcc,f1, thresholds : numpy.ndarray;\n",
    "                        MCC and F1 scores across varying thresholds\n",
    "    \n",
    "    W_num_of_subranges : int, optional;\n",
    "        Number of subranges- default = 100; \n",
    "        larger values of 𝑊 will cause the MCC-𝐹1 metric to capture the performance of a classifier more accurately.\n",
    "    \n",
    "    Returns\n",
    "    -------\n",
    "    MCC_F1_Met : float;\n",
    "                The ratio of the average distance of the MCC-F1 score to the Point of Perfect Performace (1,1)\n",
    "                A metric to compare classifier performance.\n",
    "    \n",
    "    Best_threshold : int;\n",
    "                Index of the best prediction score threshold (𝑇), \n",
    "                Index of the point on the MCC-𝐹1 curve closest to the point of perfect performance (1,1).\n",
    "    \n",
    "    \"\"\"\n",
    "    \n",
    "     \n",
    "    subrange_intervals = np.linspace(np.min(mcc), np.max(mcc),W_num_of_subranges) # breaking into subranges\n",
    "    \n",
    "    # Computing MCC values per subrange\n",
    "    \n",
    "    values_per_subrange = np.zeros_like(subrange_intervals) # 'n' is the number of points per subrange\n",
    "    for i in range(W_num_of_subranges-1):\n",
    "        for j in mcc:\n",
    "            if j >= subrange_intervals[i] and j < subrange_intervals[i+1]:\n",
    "                values_per_subrange[i] = values_per_subrange[i] + 1\n",
    "\n",
    "    # Calculating the distances between points in a subrange to the Point of perfect performance (1,1)            \n",
    "    Distance_of_points_within_subrange = np.sqrt(((mcc-1)**2)+((f1-1)**2)) # calculating the Euclidean distance 𝐷𝑖            \n",
    "    sum_of_distance_within_subrange = np.zeros_like(subrange_intervals)\n",
    "    index = -1\n",
    "    for value in mcc:\n",
    "        index += 1\n",
    "        for i in range(W_num_of_subranges-1):\n",
    "                 if value >= subrange_intervals[i] and value < subrange_intervals[i+1]:\n",
    "                        sum_of_distance_within_subrange[i] = sum_of_distance_within_subrange[i] + Distance_of_points_within_subrange[index]\n",
    "\n",
    "    # Mean Distance across subranges\n",
    "    mean_Distance_per_subrange = np.array(sum_of_distance_within_subrange/values_per_subrange)\n",
    "    total_number_of_subranges = 0  \n",
    "    total_sum_of_mean_distances = 0\n",
    "    for i in mean_Distance_per_subrange:\n",
    "        if not np.isnan(i):\n",
    "            total_number_of_subranges += 1 \n",
    "            total_sum_of_mean_distances += i # addition of all the means across subranges that have atleast 1 MCC value.\n",
    "\n",
    "    grand_mean_distance = total_sum_of_mean_distances/total_number_of_subranges # P = total number of subranges that have atleast 1 MCC value\n",
    "   \n",
    "    \"\"\" \n",
    "    Compare the grand average distance to √2 (The distance between the point of worst performance (0,0) and \n",
    "    the point of perfect performance (1,1) is √2).That is the maximum possible distance between a point on the MCC-𝐹1 curve\n",
    "    The ratio between the grand avgerage distance and √2 is taken.\n",
    "    This ratio ranges between 0 and 1 (worst value = 0; best value = 1). To get the MCC-𝐹1 score, we subtract this ratio from 1\n",
    "    \"\"\"\n",
    "\n",
    "    MCC_F1_Met = 1 - (grand_mean_distance /np.sqrt(2))\n",
    "  \n",
    "    \n",
    "    # Finding the best threshold 𝑇 the point on the MCC-𝐹1 curve closest to the point of perfect performance (1,1).\n",
    "   \n",
    "    result = np.where(Distance_of_points_within_subrange == Distance_of_points_within_subrange.min())\n",
    "    Best_threshold = result[0][0]\n",
    "    \n",
    "    print(\"MCC-F1 metric = {0:.2f}\".format(MCC_F1_Met), \"Best Threshold = {0:.2f}\".format(thresholds[Best_threshold]))\n",
    "    \n",
    "    return MCC_F1_Met,Best_threshold\n",
    "\n",
    "# Generating a plot (the overall canvas);\n",
    "axis = None\n",
    "def axis_plotting(total_plots): \n",
    "    global axis\n",
    "    if axis == None:\n",
    "        fig = plt.figure(figsize=(7,7))\n",
    "        axis = []        \n",
    "        for i in range(1,total_plots+1):\n",
    "            ax = fig.add_subplot(total_plots, 1, i)\n",
    "            axis.append(ax)\n",
    "            \n",
    "    \n",
    "def plotting(mcc, f1, thresholds,MCC_F1_Met,Best_threshold,classifer_name = \"\",total_plots = 1,ax = 0):\n",
    "    \n",
    "        \"\"\"\n",
    "        Plotting function - fuction to plot the MCC and F1 scores (across varying Thresholds), and highlight the the MCC_F1 metric with the best threshold\n",
    "        For multiple plots, 'total_plots' should be > 1 AND 'ax' (< total_plots) starting from  1\n",
    "    \n",
    "        Parameters\n",
    "        ----------\n",
    "        mcc,f1 : numpy.ndarray;\n",
    "            MCC and F1 scores across varying thresholds\n",
    "    \n",
    "        MCC_F1_Met : float;\n",
    "                The ratio of the average distance of the MCC-F1 score to the Point of Perfect Performace (1,1)\n",
    "                A metric to compare classifier performance.\n",
    "    \n",
    "        Best_threshold : int;\n",
    "                Index of the best prediction score threshold (𝑇), \n",
    "                Index of the point on the MCC-𝐹1 curve closest to the point of perfect performance (1,1).\n",
    "                \n",
    "        classifer_name : str, optional\n",
    "                    default = \"\"\n",
    "    \n",
    "        total_plots: int, optional\n",
    "                    Number of sub-plots to generate; default = 1\n",
    "    \n",
    "        ax : int, optional\n",
    "            Index of subplot ([1,2,3...]); default = None\n",
    "    \n",
    "                            \n",
    "        Returns\n",
    "        -------\n",
    "        \n",
    "        MCC-F1 curve: \n",
    "            for multiple sublplots, adjust total_plots and ax input value.\n",
    "                        \n",
    "        \"\"\"\n",
    "        \n",
    "        global axis\n",
    "        if total_plots > 1 and ax < total_plots: # if more than 1 total plot is mentioned;\n",
    "            axis_plotting(total_plots) #calling function to generate plot;\n",
    "            if ax == 0:\n",
    "                subplot = plt.gca() # plot on current axis value, \n",
    "            else:\n",
    "                subplot = axis[ax-1] # plotting additional graphs based on index of the axis.\n",
    "        elif ax > total_plots:\n",
    "            print(\"Index inconsistent with total_plots\")\n",
    "        else:\n",
    "            axis = None\n",
    "            subplot = plt.gca() # plot on base plot if no additional subplots are needed\n",
    "      \n",
    "        # Labelling the plot;\n",
    "        subplot.plot(f1,mcc)\n",
    "        subplot.annotate(classifer_name + \"_MCC_Met - {0:.2f}\".format(\n",
    "            MCC_F1_Met), \n",
    "                 (f1[Best_threshold],mcc[Best_threshold]), \n",
    "                 textcoords=\"offset points\", \n",
    "                 xytext=(0,10),\n",
    "                 ha='left') \n",
    "        \n",
    "        subplot.scatter(f1[Best_threshold],mcc[Best_threshold],color='red')\n",
    "        subplot.set(xlabel='F1 score',\n",
    "               ylabel='unit−normalized MCC',title='MCC-F1 curve')\n",
    "        \n",
    "        # Inserting Random line\n",
    "        subplot.axhline(0.5,linewidth=0.7, color='green',linestyle='--')\n",
    "        subplot.annotate('Random line',xy =(0,0.5),xytext=(250,-15),\n",
    "                    color='g', xycoords = subplot.get_yaxis_transform(), \n",
    "                    textcoords=\"offset points\", va=\"bottom\")\n",
    "\n",
    "\n",
    "        # Displaying and labelling points of performances.\n",
    "\n",
    "        subplot.scatter(1,1,color = 'black');subplot.scatter(0,0,color = 'black')\n",
    "        subplot.annotate('Point of Perfect performance',(1,1),\n",
    "                    textcoords=\"offset points\",xytext=(-9,-2),ha='right')\n",
    "        subplot.annotate('Point of Worst performance',(0,0)\n",
    "                    ,textcoords=\"offset points\",xytext=(9,2),ha='left')\n",
    "        \n",
    "        subplot.set_xticks(np.arange(0, 1.1, 0.25)); subplot.set_yticks(np.arange(0, 1.1, 0.25))\n",
    "        subplot.set_xlim(-0.05,1.05); subplot.set_ylim(-0.05,1.05)\n",
    "        subplot.grid(alpha = 0.3)"
   ]
  },
  {
   "cell_type": "code",
   "execution_count": 23,
   "id": "68a60c33-08c9-4472-9048-146f9113d295",
   "metadata": {},
   "outputs": [
    {
     "name": "stdout",
     "output_type": "stream",
     "text": [
      "MCC-F1 metric = 0.71 Best Threshold = 0.25\n"
     ]
    },
    {
     "name": "stderr",
     "output_type": "stream",
     "text": [
      "/tmp/ipykernel_3930626/1868738544.py:93: RuntimeWarning: invalid value encountered in divide\n",
      "  mean_Distance_per_subrange = np.array(sum_of_distance_within_subrange/values_per_subrange)\n"
     ]
    }
   ],
   "source": [
    "mcc,f1,thresholds = mcc_f1(y_test,pred_RF)\n",
    "\n",
    "MCC_F1_Met,T_index = MCC_F1_Metric(mcc,f1,thresholds)"
   ]
  },
  {
   "cell_type": "code",
   "execution_count": 24,
   "id": "ace483f2-e01d-4fa2-80ff-5add7d4bc320",
   "metadata": {},
   "outputs": [
    {
     "data": {
      "image/png": "[encoded data removed]",
      "text/plain": [
       "<Figure size 640x480 with 1 Axes>"
      ]
     },
     "metadata": {},
     "output_type": "display_data"
    }
   ],
   "source": [
    "plotting(mcc,f1,thresholds,MCC_F1_Met,T_index,total_plots = 1,ax = 1,classifer_name ='RandomForest')"
   ]
  },
  {
   "cell_type": "code",
   "execution_count": 25,
   "id": "fbb7c4ef-9a1f-4770-ae1e-b64996dd806c",
   "metadata": {},
   "outputs": [
    {
     "name": "stdout",
     "output_type": "stream",
     "text": [
      "MCC-F1 metric = 0.74 Best Threshold = 0.06\n"
     ]
    },
    {
     "name": "stderr",
     "output_type": "stream",
     "text": [
      "/tmp/ipykernel_3930626/1868738544.py:93: RuntimeWarning: invalid value encountered in divide\n",
      "  mean_Distance_per_subrange = np.array(sum_of_distance_within_subrange/values_per_subrange)\n"
     ]
    }
   ],
   "source": [
    "mcc,f1,thresholds = mcc_f1(y_test,pred_XGB)\n",
    "\n",
    "MCC_F1_Met,T_index = MCC_F1_Metric(mcc,f1,thresholds)"
   ]
  },
  {
   "cell_type": "code",
   "execution_count": 37,
   "id": "6ebba83c-a479-49bb-9e3b-e65eaa30a579",
   "metadata": {},
   "outputs": [
    {
     "data": {
      "text/plain": [
       "<mcc_f1._plot.mcc_f1_curve.MCCF1CurveDisplay at 0x7f1eaa6479d0>"
      ]
     },
     "execution_count": 37,
     "metadata": {},
     "output_type": "execute_result"
    },
    {
     "data": {
      "image/png": "[encoded data removed]",
      "text/plain": [
       "<Figure size 480x480 with 1 Axes>"
      ]
     },
     "metadata": {},
     "output_type": "display_data"
    }
   ],
   "source": [
    "# MCC-F1\n",
    "from mcc_f1 import mcc_f1_curve, plot_mcc_f1_curve\n",
    "mcc, f1, thresholds = mcc_f1_curve(y_test, pred_RF)\n",
    "\n",
    "# Plot MCC-F1 curve\n",
    "plot_mcc_f1_curve(modelo_RF, X_test, y_test)"
   ]
  },
  {
   "cell_type": "code",
   "execution_count": 30,
   "id": "22bb3ddd-3786-43ef-9082-9856e012e0bc",
   "metadata": {},
   "outputs": [
    {
     "data": {
      "text/plain": [
       "<mcc_f1._plot.mcc_f1_curve.MCCF1CurveDisplay at 0x7f16ac39f790>"
      ]
     },
     "execution_count": 30,
     "metadata": {},
     "output_type": "execute_result"
    },
    {
     "data": {
      "image/png": "[encoded data removed]",
      "text/plain": [
       "<Figure size 480x480 with 1 Axes>"
      ]
     },
     "metadata": {},
     "output_type": "display_data"
    }
   ],
   "source": [
    "# MCC-F1\n",
    "from mcc_f1 import mcc_f1_curve, plot_mcc_f1_curve\n",
    "mcc, f1, thresholds = mcc_f1_curve(y_test, pred_XGB)\n",
    "\n",
    "# Plot MCC-F1 curve\n",
    "plot_mcc_f1_curve(modelo_XGB, X_test, y_test)"
   ]
  },
  {
   "cell_type": "code",
   "execution_count": 52,
   "id": "7d086d53-b6da-4432-b044-db9f9ac0f098",
   "metadata": {},
   "outputs": [
    {
     "data": {
      "image/png": "[encoded data removed]",
      "text/plain": [
       "<Figure size 640x480 with 1 Axes>"
      ]
     },
     "metadata": {},
     "output_type": "display_data"
    }
   ],
   "source": [
    "import numpy as np\n",
    "from sklearn.metrics import roc_curve, auc\n",
    "import matplotlib.pyplot as plt\n",
    "\n",
    "# Suponha que você tenha as probabilidades previstas (ou pontuações) de um modelo\n",
    "y_pred_prob = pred_RF\n",
    "\n",
    "# Suponha que você tenha os rótulos reais correspondentes\n",
    "y_true = y_test\n",
    "\n",
    "# Crie uma lista de thresholds que você deseja avaliar\n",
    "#thresholds = np.linspace(0, 1, 100)  # Número de thresholds desejado\n",
    "thresholds = np.arange(0, 1, 0.01)\n",
    "tpr_list = []  # Para armazenar as taxas de verdadeiros positivos\n",
    "fpr_list = []  # Para armazenar as taxas de falsos positivos\n",
    "\n",
    "# Calcule TPR e FPR para cada threshold\n",
    "for threshold in thresholds:\n",
    "    y_pred = (y_pred_prob >= threshold).astype(int)\n",
    "    tn, fp, fn, tp = confusion_matrix(y_true, y_pred).ravel()\n",
    "    tpr = tp / (tp + fn)\n",
    "    fpr = fp / (fp + tn)\n",
    "    tpr_list.append(tpr)\n",
    "    fpr_list.append(fpr)\n",
    "\n",
    "# Calcule a área sob a curva ROC\n",
    "roc_auc = auc(fpr_list, tpr_list)\n",
    "\n",
    "# Plote a curva ROC\n",
    "plt.figure()\n",
    "plt.plot(fpr_list, tpr_list, color='darkorange', lw=2, label=f'ROC curve (area = {roc_auc:.2f})')\n",
    "plt.plot([0, 1], [0, 1], color='navy', lw=2, linestyle='--')\n",
    "plt.xlim([0.0, 1.0])\n",
    "plt.ylim([0.0, 1.05])\n",
    "plt.xlabel('False Positive Rate')\n",
    "plt.ylabel('True Positive Rate')\n",
    "plt.title('Receiver Operating Characteristic (ROC)')\n",
    "plt.legend(loc='lower right')\n",
    "plt.show()"
   ]
  },
  {
   "cell_type": "code",
   "execution_count": 48,
   "id": "18c83988-a39e-47b0-a340-04dbadb50aa0",
   "metadata": {},
   "outputs": [],
   "source": [
    "x = pred_RF"
   ]
  },
  {
   "cell_type": "code",
   "execution_count": 54,
   "id": "e376597f-5905-438c-86c2-54c564354413",
   "metadata": {},
   "outputs": [
    {
     "data": {
      "application/vnd.plotly.v1+json": {
       "config": {
        "plotlyServerURL": "https://plot.ly"
       },
       "data": [
        {
         "hovertemplate": "x=%{x}<br>y=%{y}<extra></extra>",
         "legendgroup": "",
         "marker": {
          "color": "#636efa",
          "symbol": "circle"
         },
         "mode": "markers",
         "name": "",
         "orientation": "v",
         "showlegend": false,
         "type": "scatter",
         "x": [
          0,
          0.09090909090909091,
          0,
          0.06645962732919254,
          0,
          0.9495113056621908,
          0.1694214876033058,
          0.015810276679841896,
          0,
          0.7525416086924938,
          0.8602599526682938,
          0.6757853363754959,
          0.9077210472390724,
          0.7995298063778029,
          0.1067193675889328,
          0,
          0.015810276679841896,
          0.9289725230360026,
          0.2471758807727187,
          0.9201177414539483,
          0.8488862934929507,
          0.06645962732919254,
          0.9103774817136887,
          0,
          0.8488862934929507,
          0.8975497788295935,
          0,
          0.8975497788295935,
          0.8089400328570349,
          0.9365242926751779,
          0.9495113056621908,
          0.1945228684359119,
          0.8374744704094234,
          0.9289772727272727,
          0.0606060606060606,
          0.2545454545454545,
          0.9065347419959721,
          0.5793481028775148,
          0.85428813802523,
          0.09090909090909091,
          0.19497202402340744,
          0.85428813802523,
          0.9403159033633401,
          0.8089400328570349
         ],
         "xaxis": "x",
         "y": [
          0,
          1,
          2,
          3,
          4,
          5,
          6,
          7,
          8,
          9,
          10,
          11,
          12,
          13,
          14,
          15,
          16,
          17,
          18,
          19,
          20,
          21,
          22,
          23,
          24,
          25,
          26,
          27,
          28,
          29,
          30,
          31,
          32,
          33,
          34,
          35,
          36,
          37,
          38,
          39,
          40,
          41,
          42,
          43
         ],
         "yaxis": "y"
        }
       ],
       "layout": {
        "autosize": true,
        "legend": {
         "tracegroupgap": 0
        },
        "margin": {
         "t": 60
        },
        "template": {
         "data": {
          "bar": [
           {
            "error_x": {
             "color": "#2a3f5f"
            },
            "error_y": {
             "color": "#2a3f5f"
            },
            "marker": {
             "line": {
              "color": "#E5ECF6",
              "width": 0.5
             },
             "pattern": {
              "fillmode": "overlay",
              "size": 10,
              "solidity": 0.2
             }
            },
            "type": "bar"
           }
          ],
          "barpolar": [
           {
            "marker": {
             "line": {
              "color": "#E5ECF6",
              "width": 0.5
             },
             "pattern": {
              "fillmode": "overlay",
              "size": 10,
              "solidity": 0.2
             }
            },
            "type": "barpolar"
           }
          ],
          "carpet": [
           {
            "aaxis": {
             "endlinecolor": "#2a3f5f",
             "gridcolor": "white",
             "linecolor": "white",
             "minorgridcolor": "white",
             "startlinecolor": "#2a3f5f"
            },
            "baxis": {
             "endlinecolor": "#2a3f5f",
             "gridcolor": "white",
             "linecolor": "white",
             "minorgridcolor": "white",
             "startlinecolor": "#2a3f5f"
            },
            "type": "carpet"
           }
          ],
          "choropleth": [
           {
            "colorbar": {
             "outlinewidth": 0,
             "ticks": ""
            },
            "type": "choropleth"
           }
          ],
          "contour": [
           {
            "colorbar": {
             "outlinewidth": 0,
             "ticks": ""
            },
            "colorscale": [
             [
              0,
              "#0d0887"
             ],
             [
              0.1111111111111111,
              "#46039f"
             ],
             [
              0.2222222222222222,
              "#7201a8"
             ],
             [
              0.3333333333333333,
              "#9c179e"
             ],
             [
              0.4444444444444444,
              "#bd3786"
             ],
             [
              0.5555555555555556,
              "#d8576b"
             ],
             [
              0.6666666666666666,
              "#ed7953"
             ],
             [
              0.7777777777777778,
              "#fb9f3a"
             ],
             [
              0.8888888888888888,
              "#fdca26"
             ],
             [
              1,
              "#f0f921"
             ]
            ],
            "type": "contour"
           }
          ],
          "contourcarpet": [
           {
            "colorbar": {
             "outlinewidth": 0,
             "ticks": ""
            },
            "type": "contourcarpet"
           }
          ],
          "heatmap": [
           {
            "colorbar": {
             "outlinewidth": 0,
             "ticks": ""
            },
            "colorscale": [
             [
              0,
              "#0d0887"
             ],
             [
              0.1111111111111111,
              "#46039f"
             ],
             [
              0.2222222222222222,
              "#7201a8"
             ],
             [
              0.3333333333333333,
              "#9c179e"
             ],
             [
              0.4444444444444444,
              "#bd3786"
             ],
             [
              0.5555555555555556,
              "#d8576b"
             ],
             [
              0.6666666666666666,
              "#ed7953"
             ],
             [
              0.7777777777777778,
              "#fb9f3a"
             ],
             [
              0.8888888888888888,
              "#fdca26"
             ],
             [
              1,
              "#f0f921"
             ]
            ],
            "type": "heatmap"
           }
          ],
          "heatmapgl": [
           {
            "colorbar": {
             "outlinewidth": 0,
             "ticks": ""
            },
            "colorscale": [
             [
              0,
              "#0d0887"
             ],
             [
              0.1111111111111111,
              "#46039f"
             ],
             [
              0.2222222222222222,
              "#7201a8"
             ],
             [
              0.3333333333333333,
              "#9c179e"
             ],
             [
              0.4444444444444444,
              "#bd3786"
             ],
             [
              0.5555555555555556,
              "#d8576b"
             ],
             [
              0.6666666666666666,
              "#ed7953"
             ],
             [
              0.7777777777777778,
              "#fb9f3a"
             ],
             [
              0.8888888888888888,
              "#fdca26"
             ],
             [
              1,
              "#f0f921"
             ]
            ],
            "type": "heatmapgl"
           }
          ],
          "histogram": [
           {
            "marker": {
             "pattern": {
              "fillmode": "overlay",
              "size": 10,
              "solidity": 0.2
             }
            },
            "type": "histogram"
           }
          ],
          "histogram2d": [
           {
            "colorbar": {
             "outlinewidth": 0,
             "ticks": ""
            },
            "colorscale": [
             [
              0,
              "#0d0887"
             ],
             [
              0.1111111111111111,
              "#46039f"
             ],
             [
              0.2222222222222222,
              "#7201a8"
             ],
             [
              0.3333333333333333,
              "#9c179e"
             ],
             [
              0.4444444444444444,
              "#bd3786"
             ],
             [
              0.5555555555555556,
              "#d8576b"
             ],
             [
              0.6666666666666666,
              "#ed7953"
             ],
             [
              0.7777777777777778,
              "#fb9f3a"
             ],
             [
              0.8888888888888888,
              "#fdca26"
             ],
             [
              1,
              "#f0f921"
             ]
            ],
            "type": "histogram2d"
           }
          ],
          "histogram2dcontour": [
           {
            "colorbar": {
             "outlinewidth": 0,
             "ticks": ""
            },
            "colorscale": [
             [
              0,
              "#0d0887"
             ],
             [
              0.1111111111111111,
              "#46039f"
             ],
             [
              0.2222222222222222,
              "#7201a8"
             ],
             [
              0.3333333333333333,
              "#9c179e"
             ],
             [
              0.4444444444444444,
              "#bd3786"
             ],
             [
              0.5555555555555556,
              "#d8576b"
             ],
             [
              0.6666666666666666,
              "#ed7953"
             ],
             [
              0.7777777777777778,
              "#fb9f3a"
             ],
             [
              0.8888888888888888,
              "#fdca26"
             ],
             [
              1,
              "#f0f921"
             ]
            ],
            "type": "histogram2dcontour"
           }
          ],
          "mesh3d": [
           {
            "colorbar": {
             "outlinewidth": 0,
             "ticks": ""
            },
            "type": "mesh3d"
           }
          ],
          "parcoords": [
           {
            "line": {
             "colorbar": {
              "outlinewidth": 0,
              "ticks": ""
             }
            },
            "type": "parcoords"
           }
          ],
          "pie": [
           {
            "automargin": true,
            "type": "pie"
           }
          ],
          "scatter": [
           {
            "fillpattern": {
             "fillmode": "overlay",
             "size": 10,
             "solidity": 0.2
            },
            "type": "scatter"
           }
          ],
          "scatter3d": [
           {
            "line": {
             "colorbar": {
              "outlinewidth": 0,
              "ticks": ""
             }
            },
            "marker": {
             "colorbar": {
              "outlinewidth": 0,
              "ticks": ""
             }
            },
            "type": "scatter3d"
           }
          ],
          "scattercarpet": [
           {
            "marker": {
             "colorbar": {
              "outlinewidth": 0,
              "ticks": ""
             }
            },
            "type": "scattercarpet"
           }
          ],
          "scattergeo": [
           {
            "marker": {
             "colorbar": {
              "outlinewidth": 0,
              "ticks": ""
             }
            },
            "type": "scattergeo"
           }
          ],
          "scattergl": [
           {
            "marker": {
             "colorbar": {
              "outlinewidth": 0,
              "ticks": ""
             }
            },
            "type": "scattergl"
           }
          ],
          "scattermapbox": [
           {
            "marker": {
             "colorbar": {
              "outlinewidth": 0,
              "ticks": ""
             }
            },
            "type": "scattermapbox"
           }
          ],
          "scatterpolar": [
           {
            "marker": {
             "colorbar": {
              "outlinewidth": 0,
              "ticks": ""
             }
            },
            "type": "scatterpolar"
           }
          ],
          "scatterpolargl": [
           {
            "marker": {
             "colorbar": {
              "outlinewidth": 0,
              "ticks": ""
             }
            },
            "type": "scatterpolargl"
           }
          ],
          "scatterternary": [
           {
            "marker": {
             "colorbar": {
              "outlinewidth": 0,
              "ticks": ""
             }
            },
            "type": "scatterternary"
           }
          ],
          "surface": [
           {
            "colorbar": {
             "outlinewidth": 0,
             "ticks": ""
            },
            "colorscale": [
             [
              0,
              "#0d0887"
             ],
             [
              0.1111111111111111,
              "#46039f"
             ],
             [
              0.2222222222222222,
              "#7201a8"
             ],
             [
              0.3333333333333333,
              "#9c179e"
             ],
             [
              0.4444444444444444,
              "#bd3786"
             ],
             [
              0.5555555555555556,
              "#d8576b"
             ],
             [
              0.6666666666666666,
              "#ed7953"
             ],
             [
              0.7777777777777778,
              "#fb9f3a"
             ],
             [
              0.8888888888888888,
              "#fdca26"
             ],
             [
              1,
              "#f0f921"
             ]
            ],
            "type": "surface"
           }
          ],
          "table": [
           {
            "cells": {
             "fill": {
              "color": "#EBF0F8"
             },
             "line": {
              "color": "white"
             }
            },
            "header": {
             "fill": {
              "color": "#C8D4E3"
             },
             "line": {
              "color": "white"
             }
            },
            "type": "table"
           }
          ]
         },
         "layout": {
          "annotationdefaults": {
           "arrowcolor": "#2a3f5f",
           "arrowhead": 0,
           "arrowwidth": 1
          },
          "autotypenumbers": "strict",
          "coloraxis": {
           "colorbar": {
            "outlinewidth": 0,
            "ticks": ""
           }
          },
          "colorscale": {
           "diverging": [
            [
             0,
             "#8e0152"
            ],
            [
             0.1,
             "#c51b7d"
            ],
            [
             0.2,
             "#de77ae"
            ],
            [
             0.3,
             "#f1b6da"
            ],
            [
             0.4,
             "#fde0ef"
            ],
            [
             0.5,
             "#f7f7f7"
            ],
            [
             0.6,
             "#e6f5d0"
            ],
            [
             0.7,
             "#b8e186"
            ],
            [
             0.8,
             "#7fbc41"
            ],
            [
             0.9,
             "#4d9221"
            ],
            [
             1,
             "#276419"
            ]
           ],
           "sequential": [
            [
             0,
             "#0d0887"
            ],
            [
             0.1111111111111111,
             "#46039f"
            ],
            [
             0.2222222222222222,
             "#7201a8"
            ],
            [
             0.3333333333333333,
             "#9c179e"
            ],
            [
             0.4444444444444444,
             "#bd3786"
            ],
            [
             0.5555555555555556,
             "#d8576b"
            ],
            [
             0.6666666666666666,
             "#ed7953"
            ],
            [
             0.7777777777777778,
             "#fb9f3a"
            ],
            [
             0.8888888888888888,
             "#fdca26"
            ],
            [
             1,
             "#f0f921"
            ]
           ],
           "sequentialminus": [
            [
             0,
             "#0d0887"
            ],
            [
             0.1111111111111111,
             "#46039f"
            ],
            [
             0.2222222222222222,
             "#7201a8"
            ],
            [
             0.3333333333333333,
             "#9c179e"
            ],
            [
             0.4444444444444444,
             "#bd3786"
            ],
            [
             0.5555555555555556,
             "#d8576b"
            ],
            [
             0.6666666666666666,
             "#ed7953"
            ],
            [
             0.7777777777777778,
             "#fb9f3a"
            ],
            [
             0.8888888888888888,
             "#fdca26"
            ],
            [
             1,
             "#f0f921"
            ]
           ]
          },
          "colorway": [
           "#636efa",
           "#EF553B",
           "#00cc96",
           "#ab63fa",
           "#FFA15A",
           "#19d3f3",
           "#FF6692",
           "#B6E880",
           "#FF97FF",
           "#FECB52"
          ],
          "font": {
           "color": "#2a3f5f"
          },
          "geo": {
           "bgcolor": "white",
           "lakecolor": "white",
           "landcolor": "#E5ECF6",
           "showlakes": true,
           "showland": true,
           "subunitcolor": "white"
          },
          "hoverlabel": {
           "align": "left"
          },
          "hovermode": "closest",
          "mapbox": {
           "style": "light"
          },
          "paper_bgcolor": "white",
          "plot_bgcolor": "#E5ECF6",
          "polar": {
           "angularaxis": {
            "gridcolor": "white",
            "linecolor": "white",
            "ticks": ""
           },
           "bgcolor": "#E5ECF6",
           "radialaxis": {
            "gridcolor": "white",
            "linecolor": "white",
            "ticks": ""
           }
          },
          "scene": {
           "xaxis": {
            "backgroundcolor": "#E5ECF6",
            "gridcolor": "white",
            "gridwidth": 2,
            "linecolor": "white",
            "showbackground": true,
            "ticks": "",
            "zerolinecolor": "white"
           },
           "yaxis": {
            "backgroundcolor": "#E5ECF6",
            "gridcolor": "white",
            "gridwidth": 2,
            "linecolor": "white",
            "showbackground": true,
            "ticks": "",
            "zerolinecolor": "white"
           },
           "zaxis": {
            "backgroundcolor": "#E5ECF6",
            "gridcolor": "white",
            "gridwidth": 2,
            "linecolor": "white",
            "showbackground": true,
            "ticks": "",
            "zerolinecolor": "white"
           }
          },
          "shapedefaults": {
           "line": {
            "color": "#2a3f5f"
           }
          },
          "ternary": {
           "aaxis": {
            "gridcolor": "white",
            "linecolor": "white",
            "ticks": ""
           },
           "baxis": {
            "gridcolor": "white",
            "linecolor": "white",
            "ticks": ""
           },
           "bgcolor": "#E5ECF6",
           "caxis": {
            "gridcolor": "white",
            "linecolor": "white",
            "ticks": ""
           }
          },
          "title": {
           "x": 0.05
          },
          "xaxis": {
           "automargin": true,
           "gridcolor": "white",
           "linecolor": "white",
           "ticks": "",
           "title": {
            "standoff": 15
           },
           "zerolinecolor": "white",
           "zerolinewidth": 2
          },
          "yaxis": {
           "automargin": true,
           "gridcolor": "white",
           "linecolor": "white",
           "ticks": "",
           "title": {
            "standoff": 15
           },
           "zerolinecolor": "white",
           "zerolinewidth": 2
          }
         }
        },
        "xaxis": {
         "anchor": "y",
         "autorange": true,
         "domain": [
          0,
          1
         ],
         "range": [
          -0.057593689797480176,
          1.007104995459671
         ],
         "title": {
          "text": "x"
         },
         "type": "linear"
        },
        "yaxis": {
         "anchor": "x",
         "autorange": true,
         "domain": [
          0,
          1
         ],
         "range": [
          -3.3293963254593177,
          46.32939632545932
         ],
         "title": {
          "text": "y"
         },
         "type": "linear"
        }
       }
      },
      "image/png": "[encoded data removed]",
      "text/html": [
       "<div>                            <div id=\"3b6c53ee-d572-41de-9fe7-4d399bc670dc\" class=\"plotly-graph-div\" style=\"height:525px; width:100%;\"></div>            <script type=\"text/javascript\">                require([\"plotly\"], function(Plotly) {                    window.PLOTLYENV=window.PLOTLYENV || {};                                    if (document.getElementById(\"3b6c53ee-d572-41de-9fe7-4d399bc670dc\")) {                    Plotly.newPlot(                        \"3b6c53ee-d572-41de-9fe7-4d399bc670dc\",                        [{\"hovertemplate\":\"x=%{x}\\u003cbr\\u003ey=%{y}\\u003cextra\\u003e\\u003c\\u002fextra\\u003e\",\"legendgroup\":\"\",\"marker\":{\"color\":\"#636efa\",\"symbol\":\"circle\"},\"mode\":\"markers\",\"name\":\"\",\"orientation\":\"v\",\"showlegend\":false,\"x\":[0.0,0.09090909090909091,0.0,0.06645962732919254,0.0,0.9495113056621908,0.1694214876033058,0.015810276679841896,0.0,0.7525416086924938,0.8602599526682938,0.6757853363754959,0.9077210472390724,0.7995298063778029,0.1067193675889328,0.0,0.015810276679841896,0.9289725230360026,0.2471758807727187,0.9201177414539483,0.8488862934929507,0.06645962732919254,0.9103774817136887,0.0,0.8488862934929507,0.8975497788295935,0.0,0.8975497788295935,0.8089400328570349,0.9365242926751779,0.9495113056621908,0.1945228684359119,0.8374744704094234,0.9289772727272727,0.0606060606060606,0.2545454545454545,0.9065347419959721,0.5793481028775148,0.85428813802523,0.09090909090909091,0.19497202402340744,0.85428813802523,0.9403159033633401,0.8089400328570349],\"xaxis\":\"x\",\"y\":[0,1,2,3,4,5,6,7,8,9,10,11,12,13,14,15,16,17,18,19,20,21,22,23,24,25,26,27,28,29,30,31,32,33,34,35,36,37,38,39,40,41,42,43],\"yaxis\":\"y\",\"type\":\"scatter\"}],                        {\"template\":{\"data\":{\"histogram2dcontour\":[{\"type\":\"histogram2dcontour\",\"colorbar\":{\"outlinewidth\":0,\"ticks\":\"\"},\"colorscale\":[[0.0,\"#0d0887\"],[0.1111111111111111,\"#46039f\"],[0.2222222222222222,\"#7201a8\"],[0.3333333333333333,\"#9c179e\"],[0.4444444444444444,\"#bd3786\"],[0.5555555555555556,\"#d8576b\"],[0.6666666666666666,\"#ed7953\"],[0.7777777777777778,\"#fb9f3a\"],[0.8888888888888888,\"#fdca26\"],[1.0,\"#f0f921\"]]}],\"choropleth\":[{\"type\":\"choropleth\",\"colorbar\":{\"outlinewidth\":0,\"ticks\":\"\"}}],\"histogram2d\":[{\"type\":\"histogram2d\",\"colorbar\":{\"outlinewidth\":0,\"ticks\":\"\"},\"colorscale\":[[0.0,\"#0d0887\"],[0.1111111111111111,\"#46039f\"],[0.2222222222222222,\"#7201a8\"],[0.3333333333333333,\"#9c179e\"],[0.4444444444444444,\"#bd3786\"],[0.5555555555555556,\"#d8576b\"],[0.6666666666666666,\"#ed7953\"],[0.7777777777777778,\"#fb9f3a\"],[0.8888888888888888,\"#fdca26\"],[1.0,\"#f0f921\"]]}],\"heatmap\":[{\"type\":\"heatmap\",\"colorbar\":{\"outlinewidth\":0,\"ticks\":\"\"},\"colorscale\":[[0.0,\"#0d0887\"],[0.1111111111111111,\"#46039f\"],[0.2222222222222222,\"#7201a8\"],[0.3333333333333333,\"#9c179e\"],[0.4444444444444444,\"#bd3786\"],[0.5555555555555556,\"#d8576b\"],[0.6666666666666666,\"#ed7953\"],[0.7777777777777778,\"#fb9f3a\"],[0.8888888888888888,\"#fdca26\"],[1.0,\"#f0f921\"]]}],\"heatmapgl\":[{\"type\":\"heatmapgl\",\"colorbar\":{\"outlinewidth\":0,\"ticks\":\"\"},\"colorscale\":[[0.0,\"#0d0887\"],[0.1111111111111111,\"#46039f\"],[0.2222222222222222,\"#7201a8\"],[0.3333333333333333,\"#9c179e\"],[0.4444444444444444,\"#bd3786\"],[0.5555555555555556,\"#d8576b\"],[0.6666666666666666,\"#ed7953\"],[0.7777777777777778,\"#fb9f3a\"],[0.8888888888888888,\"#fdca26\"],[1.0,\"#f0f921\"]]}],\"contourcarpet\":[{\"type\":\"contourcarpet\",\"colorbar\":{\"outlinewidth\":0,\"ticks\":\"\"}}],\"contour\":[{\"type\":\"contour\",\"colorbar\":{\"outlinewidth\":0,\"ticks\":\"\"},\"colorscale\":[[0.0,\"#0d0887\"],[0.1111111111111111,\"#46039f\"],[0.2222222222222222,\"#7201a8\"],[0.3333333333333333,\"#9c179e\"],[0.4444444444444444,\"#bd3786\"],[0.5555555555555556,\"#d8576b\"],[0.6666666666666666,\"#ed7953\"],[0.7777777777777778,\"#fb9f3a\"],[0.8888888888888888,\"#fdca26\"],[1.0,\"#f0f921\"]]}],\"surface\":[{\"type\":\"surface\",\"colorbar\":{\"outlinewidth\":0,\"ticks\":\"\"},\"colorscale\":[[0.0,\"#0d0887\"],[0.1111111111111111,\"#46039f\"],[0.2222222222222222,\"#7201a8\"],[0.3333333333333333,\"#9c179e\"],[0.4444444444444444,\"#bd3786\"],[0.5555555555555556,\"#d8576b\"],[0.6666666666666666,\"#ed7953\"],[0.7777777777777778,\"#fb9f3a\"],[0.8888888888888888,\"#fdca26\"],[1.0,\"#f0f921\"]]}],\"mesh3d\":[{\"type\":\"mesh3d\",\"colorbar\":{\"outlinewidth\":0,\"ticks\":\"\"}}],\"scatter\":[{\"fillpattern\":{\"fillmode\":\"overlay\",\"size\":10,\"solidity\":0.2},\"type\":\"scatter\"}],\"parcoords\":[{\"type\":\"parcoords\",\"line\":{\"colorbar\":{\"outlinewidth\":0,\"ticks\":\"\"}}}],\"scatterpolargl\":[{\"type\":\"scatterpolargl\",\"marker\":{\"colorbar\":{\"outlinewidth\":0,\"ticks\":\"\"}}}],\"bar\":[{\"error_x\":{\"color\":\"#2a3f5f\"},\"error_y\":{\"color\":\"#2a3f5f\"},\"marker\":{\"line\":{\"color\":\"#E5ECF6\",\"width\":0.5},\"pattern\":{\"fillmode\":\"overlay\",\"size\":10,\"solidity\":0.2}},\"type\":\"bar\"}],\"scattergeo\":[{\"type\":\"scattergeo\",\"marker\":{\"colorbar\":{\"outlinewidth\":0,\"ticks\":\"\"}}}],\"scatterpolar\":[{\"type\":\"scatterpolar\",\"marker\":{\"colorbar\":{\"outlinewidth\":0,\"ticks\":\"\"}}}],\"histogram\":[{\"marker\":{\"pattern\":{\"fillmode\":\"overlay\",\"size\":10,\"solidity\":0.2}},\"type\":\"histogram\"}],\"scattergl\":[{\"type\":\"scattergl\",\"marker\":{\"colorbar\":{\"outlinewidth\":0,\"ticks\":\"\"}}}],\"scatter3d\":[{\"type\":\"scatter3d\",\"line\":{\"colorbar\":{\"outlinewidth\":0,\"ticks\":\"\"}},\"marker\":{\"colorbar\":{\"outlinewidth\":0,\"ticks\":\"\"}}}],\"scattermapbox\":[{\"type\":\"scattermapbox\",\"marker\":{\"colorbar\":{\"outlinewidth\":0,\"ticks\":\"\"}}}],\"scatterternary\":[{\"type\":\"scatterternary\",\"marker\":{\"colorbar\":{\"outlinewidth\":0,\"ticks\":\"\"}}}],\"scattercarpet\":[{\"type\":\"scattercarpet\",\"marker\":{\"colorbar\":{\"outlinewidth\":0,\"ticks\":\"\"}}}],\"carpet\":[{\"aaxis\":{\"endlinecolor\":\"#2a3f5f\",\"gridcolor\":\"white\",\"linecolor\":\"white\",\"minorgridcolor\":\"white\",\"startlinecolor\":\"#2a3f5f\"},\"baxis\":{\"endlinecolor\":\"#2a3f5f\",\"gridcolor\":\"white\",\"linecolor\":\"white\",\"minorgridcolor\":\"white\",\"startlinecolor\":\"#2a3f5f\"},\"type\":\"carpet\"}],\"table\":[{\"cells\":{\"fill\":{\"color\":\"#EBF0F8\"},\"line\":{\"color\":\"white\"}},\"header\":{\"fill\":{\"color\":\"#C8D4E3\"},\"line\":{\"color\":\"white\"}},\"type\":\"table\"}],\"barpolar\":[{\"marker\":{\"line\":{\"color\":\"#E5ECF6\",\"width\":0.5},\"pattern\":{\"fillmode\":\"overlay\",\"size\":10,\"solidity\":0.2}},\"type\":\"barpolar\"}],\"pie\":[{\"automargin\":true,\"type\":\"pie\"}]},\"layout\":{\"autotypenumbers\":\"strict\",\"colorway\":[\"#636efa\",\"#EF553B\",\"#00cc96\",\"#ab63fa\",\"#FFA15A\",\"#19d3f3\",\"#FF6692\",\"#B6E880\",\"#FF97FF\",\"#FECB52\"],\"font\":{\"color\":\"#2a3f5f\"},\"hovermode\":\"closest\",\"hoverlabel\":{\"align\":\"left\"},\"paper_bgcolor\":\"white\",\"plot_bgcolor\":\"#E5ECF6\",\"polar\":{\"bgcolor\":\"#E5ECF6\",\"angularaxis\":{\"gridcolor\":\"white\",\"linecolor\":\"white\",\"ticks\":\"\"},\"radialaxis\":{\"gridcolor\":\"white\",\"linecolor\":\"white\",\"ticks\":\"\"}},\"ternary\":{\"bgcolor\":\"#E5ECF6\",\"aaxis\":{\"gridcolor\":\"white\",\"linecolor\":\"white\",\"ticks\":\"\"},\"baxis\":{\"gridcolor\":\"white\",\"linecolor\":\"white\",\"ticks\":\"\"},\"caxis\":{\"gridcolor\":\"white\",\"linecolor\":\"white\",\"ticks\":\"\"}},\"coloraxis\":{\"colorbar\":{\"outlinewidth\":0,\"ticks\":\"\"}},\"colorscale\":{\"sequential\":[[0.0,\"#0d0887\"],[0.1111111111111111,\"#46039f\"],[0.2222222222222222,\"#7201a8\"],[0.3333333333333333,\"#9c179e\"],[0.4444444444444444,\"#bd3786\"],[0.5555555555555556,\"#d8576b\"],[0.6666666666666666,\"#ed7953\"],[0.7777777777777778,\"#fb9f3a\"],[0.8888888888888888,\"#fdca26\"],[1.0,\"#f0f921\"]],\"sequentialminus\":[[0.0,\"#0d0887\"],[0.1111111111111111,\"#46039f\"],[0.2222222222222222,\"#7201a8\"],[0.3333333333333333,\"#9c179e\"],[0.4444444444444444,\"#bd3786\"],[0.5555555555555556,\"#d8576b\"],[0.6666666666666666,\"#ed7953\"],[0.7777777777777778,\"#fb9f3a\"],[0.8888888888888888,\"#fdca26\"],[1.0,\"#f0f921\"]],\"diverging\":[[0,\"#8e0152\"],[0.1,\"#c51b7d\"],[0.2,\"#de77ae\"],[0.3,\"#f1b6da\"],[0.4,\"#fde0ef\"],[0.5,\"#f7f7f7\"],[0.6,\"#e6f5d0\"],[0.7,\"#b8e186\"],[0.8,\"#7fbc41\"],[0.9,\"#4d9221\"],[1,\"#276419\"]]},\"xaxis\":{\"gridcolor\":\"white\",\"linecolor\":\"white\",\"ticks\":\"\",\"title\":{\"standoff\":15},\"zerolinecolor\":\"white\",\"automargin\":true,\"zerolinewidth\":2},\"yaxis\":{\"gridcolor\":\"white\",\"linecolor\":\"white\",\"ticks\":\"\",\"title\":{\"standoff\":15},\"zerolinecolor\":\"white\",\"automargin\":true,\"zerolinewidth\":2},\"scene\":{\"xaxis\":{\"backgroundcolor\":\"#E5ECF6\",\"gridcolor\":\"white\",\"linecolor\":\"white\",\"showbackground\":true,\"ticks\":\"\",\"zerolinecolor\":\"white\",\"gridwidth\":2},\"yaxis\":{\"backgroundcolor\":\"#E5ECF6\",\"gridcolor\":\"white\",\"linecolor\":\"white\",\"showbackground\":true,\"ticks\":\"\",\"zerolinecolor\":\"white\",\"gridwidth\":2},\"zaxis\":{\"backgroundcolor\":\"#E5ECF6\",\"gridcolor\":\"white\",\"linecolor\":\"white\",\"showbackground\":true,\"ticks\":\"\",\"zerolinecolor\":\"white\",\"gridwidth\":2}},\"shapedefaults\":{\"line\":{\"color\":\"#2a3f5f\"}},\"annotationdefaults\":{\"arrowcolor\":\"#2a3f5f\",\"arrowhead\":0,\"arrowwidth\":1},\"geo\":{\"bgcolor\":\"white\",\"landcolor\":\"#E5ECF6\",\"subunitcolor\":\"white\",\"showland\":true,\"showlakes\":true,\"lakecolor\":\"white\"},\"title\":{\"x\":0.05},\"mapbox\":{\"style\":\"light\"}}},\"xaxis\":{\"anchor\":\"y\",\"domain\":[0.0,1.0],\"title\":{\"text\":\"x\"}},\"yaxis\":{\"anchor\":\"x\",\"domain\":[0.0,1.0],\"title\":{\"text\":\"y\"}},\"legend\":{\"tracegroupgap\":0},\"margin\":{\"t\":60}},                        {\"responsive\": true}                    ).then(function(){\n",
       "                            \n",
       "var gd = document.getElementById('3b6c53ee-d572-41de-9fe7-4d399bc670dc');\n",
       "var x = new MutationObserver(function (mutations, observer) {{\n",
       "        var display = window.getComputedStyle(gd).display;\n",
       "        if (!display || display === 'none') {{\n",
       "            console.log([gd, 'removed!']);\n",
       "            Plotly.purge(gd);\n",
       "            observer.disconnect();\n",
       "        }}\n",
       "}});\n",
       "\n",
       "// Listen for the removal of the full notebook cells\n",
       "var notebookContainer = gd.closest('#notebook-container');\n",
       "if (notebookContainer) {{\n",
       "    x.observe(notebookContainer, {childList: true});\n",
       "}}\n",
       "\n",
       "// Listen for the clearing of the current output cell\n",
       "var outputEl = gd.closest('.output');\n",
       "if (outputEl) {{\n",
       "    x.observe(outputEl, {childList: true});\n",
       "}}\n",
       "\n",
       "                        })                };                });            </script>        </div>"
      ]
     },
     "metadata": {},
     "output_type": "display_data"
    }
   ],
   "source": [
    "import plotly.express as px\n",
    "\n",
    "\n",
    "y = np.arange(0,len(x),1)\n",
    "fig = px.scatter( x=x, y=y)\n",
    "fig.show() "
   ]
  },
  {
   "cell_type": "code",
   "execution_count": null,
   "id": "4b4b3cff-308e-4af0-b5d7-93bc529be5eb",
   "metadata": {},
   "outputs": [],
   "source": []
  }
 ],
 "metadata": {
  "kernelspec": {
   "display_name": "Python 3 (ipykernel)",
   "language": "python",
   "name": "python3"
  },
  "language_info": {
   "codemirror_mode": {
    "name": "ipython",
    "version": 3
   },
   "file_extension": ".py",
   "mimetype": "text/x-python",
   "name": "python",
   "nbconvert_exporter": "python",
   "pygments_lexer": "ipython3",
   "version": "3.10.12"
  }
 },
 "nbformat": 4,
 "nbformat_minor": 5
}
